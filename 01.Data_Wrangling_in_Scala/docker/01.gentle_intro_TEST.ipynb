{
 "cells": [
  {
   "cell_type": "markdown",
   "metadata": {},
   "source": [
    "# Introduction to Spark Dev"
   ]
  },
  {
   "cell_type": "markdown",
   "metadata": {},
   "source": [
    "In order to prepare the Databricks' Associate Developer for Apache Spark 2.4 certification, i've made all the examples of the book [\"Spark: The Definitive Guide\" \n",
    "by Bill Chambers, Matei Zaharia (O'reilly - Feb 2018](https://www.oreilly.com/library/view/spark-the-definitive/9781491912201/) as exercices. This book is an invaluable resource ! There are from time to time several variations from the orginal examples. \n",
    "\n",
    "This blog post is part of a serie about Spark Dev :\n",
    "- [01 introduction]()\n",
    "- [02 basic structured_ops]()\n",
    "- [03 aggregations]()\n",
    "- [04 working with different types of data]()\n",
    "- [05 joins]()\n",
    "\n",
    "You can find all these jupyter notebooks in a dedicated github repository, with for each a blank notebook (without code / only result) in order to train yourselves. "
   ]
  },
  {
   "cell_type": "markdown",
   "metadata": {},
   "source": [
    "Create a spark session"
   ]
  },
  {
   "cell_type": "code",
   "execution_count": 1,
   "metadata": {},
   "outputs": [
    {
     "data": {
      "text/plain": [
       "Intitializing Scala interpreter ..."
      ]
     },
     "metadata": {},
     "output_type": "display_data"
    },
    {
     "data": {
      "text/plain": [
       "Spark Web UI available at http://ed1efe135804:4040\n",
       "SparkContext available as 'sc' (version = 3.0.0, master = local[*], app id = local-1597170050923)\n",
       "SparkSession available as 'spark'\n"
      ]
     },
     "metadata": {},
     "output_type": "display_data"
    },
    {
     "data": {
      "text/plain": [
       "import org.apache.spark.sql.SparkSession\n"
      ]
     },
     "execution_count": 1,
     "metadata": {},
     "output_type": "execute_result"
    }
   ],
   "source": []
  },
  {
   "cell_type": "code",
   "execution_count": 2,
   "metadata": {},
   "outputs": [
    {
     "data": {
      "text/plain": [
       "spark: org.apache.spark.sql.SparkSession = org.apache.spark.sql.SparkSession@4a9b34fb\n"
      ]
     },
     "execution_count": 2,
     "metadata": {},
     "output_type": "execute_result"
    }
   ],
   "source": []
  },
  {
   "cell_type": "code",
   "execution_count": 6,
   "metadata": {},
   "outputs": [
    {
     "name": "stdout",
     "output_type": "stream",
     "text": [
      "01.gentle_intro_COMPLEMENT.ipynb\r\n",
      "01.gentle_intro.ipynb\r\n",
      "01.gentle_intro_TEST.ipynb\r\n",
      "02.basic_structured_op_COMPLEMENT.ipynb\r\n",
      "02.basic_structured_op.ipynb\r\n",
      "02.basic_structured_op_TEST.ipynb\r\n",
      "03.aggregations_COMPLETE.ipynb\r\n",
      "03.aggregations_INCOMPLETE.ipynb\r\n",
      "03.aggregations.ipynb\r\n",
      "04.working_with_different_types_of_data.ipynb\r\n",
      "05.joins.ipynb\r\n",
      "05.joins_TEST.ipynb\r\n",
      "201508_station_data.csv\r\n",
      "201508_trip_data.csv\r\n",
      "spark_docker.txt\r\n",
      "\n"
     ]
    }
   ],
   "source": [
    "!ls ../../../src"
   ]
  },
  {
   "cell_type": "markdown",
   "metadata": {},
   "source": [
    "Create a DF with range"
   ]
  },
  {
   "cell_type": "code",
   "execution_count": 7,
   "metadata": {},
   "outputs": [
    {
     "name": "stdout",
     "output_type": "stream",
     "text": [
      "+----+\n",
      "|numb|\n",
      "+----+\n",
      "|   0|\n",
      "|   1|\n",
      "|   2|\n",
      "|   3|\n",
      "|   4|\n",
      "+----+\n",
      "only showing top 5 rows\n",
      "\n"
     ]
    },
    {
     "data": {
      "text/plain": [
       "test_df: org.apache.spark.sql.DataFrame = [numb: bigint]\n"
      ]
     },
     "execution_count": 7,
     "metadata": {},
     "output_type": "execute_result"
    }
   ],
   "source": []
  },
  {
   "cell_type": "markdown",
   "metadata": {},
   "source": [
    "Retrieve only number divisible by 2"
   ]
  },
  {
   "cell_type": "code",
   "execution_count": 8,
   "metadata": {},
   "outputs": [
    {
     "name": "stdout",
     "output_type": "stream",
     "text": [
      "+----+\n",
      "|numb|\n",
      "+----+\n",
      "|   0|\n",
      "|   2|\n",
      "|   4|\n",
      "|   6|\n",
      "|   8|\n",
      "+----+\n",
      "only showing top 5 rows\n",
      "\n"
     ]
    }
   ],
   "source": []
  },
  {
   "cell_type": "markdown",
   "metadata": {},
   "source": [
    "Read a csv and load it into a DF"
   ]
  },
  {
   "cell_type": "code",
   "execution_count": 42,
   "metadata": {},
   "outputs": [
    {
     "name": "stdout",
     "output_type": "stream",
     "text": [
      "+-------+--------+---------------+--------------------+--------------+---------------+\n",
      "|Trip ID|Duration|     Start Date|       Start Station|Start Terminal|       End Date|\n",
      "+-------+--------+---------------+--------------------+--------------+---------------+\n",
      "| 913460|     765|8/31/2015 23:26|Harry Bridges Pla...|            50|8/31/2015 23:39|\n",
      "| 913459|    1036|8/31/2015 23:11|San Antonio Shopp...|            31|8/31/2015 23:28|\n",
      "| 913455|     307|8/31/2015 23:13|      Post at Kearny|            47|8/31/2015 23:18|\n",
      "| 913454|     409|8/31/2015 23:10|  San Jose City Hall|            10|8/31/2015 23:17|\n",
      "| 913453|     789|8/31/2015 23:09|Embarcadero at Fo...|            51|8/31/2015 23:22|\n",
      "+-------+--------+---------------+--------------------+--------------+---------------+\n",
      "only showing top 5 rows\n",
      "\n"
     ]
    },
    {
     "data": {
      "text/plain": [
       "df: org.apache.spark.sql.DataFrame = [Trip ID: int, Duration: int ... 9 more fields]\n"
      ]
     },
     "execution_count": 42,
     "metadata": {},
     "output_type": "execute_result"
    }
   ],
   "source": []
  },
  {
   "cell_type": "markdown",
   "metadata": {},
   "source": [
    "You can make any DataFrame into a table or view with one simple method call. This will allow us to query this table like an SQL one :"
   ]
  },
  {
   "cell_type": "code",
   "execution_count": 10,
   "metadata": {},
   "outputs": [
    {
     "data": {
      "text/plain": [
       "import org.apache.spark.sql.functions._\n"
      ]
     },
     "execution_count": 10,
     "metadata": {},
     "output_type": "execute_result"
    }
   ],
   "source": []
  },
  {
   "cell_type": "markdown",
   "metadata": {},
   "source": [
    "Select the first 2 rows"
   ]
  },
  {
   "cell_type": "code",
   "execution_count": 12,
   "metadata": {},
   "outputs": [
    {
     "data": {
      "text/plain": [
       "res4: Array[String] = Array(Trip ID, Duration, Start Date, Start Station, Start Terminal, End Date, End Station, End Terminal, Bike #, Subscriber Type, Zip Code)\n"
      ]
     },
     "execution_count": 12,
     "metadata": {},
     "output_type": "execute_result"
    }
   ],
   "source": []
  },
  {
   "cell_type": "code",
   "execution_count": 13,
   "metadata": {},
   "outputs": [
    {
     "name": "stdout",
     "output_type": "stream",
     "text": [
      "+-------+--------+---------------+--------------------+\n",
      "|Trip ID|Duration|     Start Date|       Start Station|\n",
      "+-------+--------+---------------+--------------------+\n",
      "| 913460|     765|8/31/2015 23:26|Harry Bridges Pla...|\n",
      "| 913459|    1036|8/31/2015 23:11|San Antonio Shopp...|\n",
      "+-------+--------+---------------+--------------------+\n",
      "only showing top 2 rows\n",
      "\n"
     ]
    }
   ],
   "source": []
  },
  {
   "cell_type": "markdown",
   "metadata": {},
   "source": [
    "Retrieve the first 3 lines as an array"
   ]
  },
  {
   "cell_type": "code",
   "execution_count": 14,
   "metadata": {},
   "outputs": [
    {
     "data": {
      "text/plain": [
       "res6: Array[org.apache.spark.sql.Row] = Array([913460,765,8/31/2015 23:26,Harry Bridges Plaza (Ferry Building),50,8/31/2015 23:39,San Francisco Caltrain (Townsend at 4th),70,288,Subscriber,2139], [913459,1036,8/31/2015 23:11,San Antonio Shopping Center,31,8/31/2015 23:28,Mountain View City Hall,27,35,Subscriber,95032], [913455,307,8/31/2015 23:13,Post at Kearny,47,8/31/2015 23:18,2nd at South Park,64,468,Subscriber,94107])\n"
      ]
     },
     "execution_count": 14,
     "metadata": {},
     "output_type": "execute_result"
    }
   ],
   "source": []
  },
  {
   "cell_type": "markdown",
   "metadata": {},
   "source": [
    "Get Schema of the DF"
   ]
  },
  {
   "cell_type": "code",
   "execution_count": 15,
   "metadata": {},
   "outputs": [
    {
     "data": {
      "text/plain": [
       "res7: org.apache.spark.sql.types.StructType = StructType(StructField(Trip ID,IntegerType,true), StructField(Duration,IntegerType,true), StructField(Start Date,StringType,true), StructField(Start Station,StringType,true), StructField(Start Terminal,IntegerType,true), StructField(End Date,StringType,true), StructField(End Station,StringType,true), StructField(End Terminal,IntegerType,true), StructField(Bike #,IntegerType,true), StructField(Subscriber Type,StringType,true), StructField(Zip Code,StringType,true))\n"
      ]
     },
     "execution_count": 15,
     "metadata": {},
     "output_type": "execute_result"
    }
   ],
   "source": []
  },
  {
   "cell_type": "markdown",
   "metadata": {},
   "source": [
    "Print it more nicely"
   ]
  },
  {
   "cell_type": "code",
   "execution_count": 16,
   "metadata": {},
   "outputs": [
    {
     "name": "stdout",
     "output_type": "stream",
     "text": [
      "root\n",
      " |-- Trip ID: integer (nullable = true)\n",
      " |-- Duration: integer (nullable = true)\n",
      " |-- Start Date: string (nullable = true)\n",
      " |-- Start Station: string (nullable = true)\n",
      " |-- Start Terminal: integer (nullable = true)\n",
      " |-- End Date: string (nullable = true)\n",
      " |-- End Station: string (nullable = true)\n",
      " |-- End Terminal: integer (nullable = true)\n",
      " |-- Bike #: integer (nullable = true)\n",
      " |-- Subscriber Type: string (nullable = true)\n",
      " |-- Zip Code: string (nullable = true)\n",
      "\n"
     ]
    }
   ],
   "source": []
  },
  {
   "cell_type": "markdown",
   "metadata": {},
   "source": [
    "Sort the DF by the Duration col"
   ]
  },
  {
   "cell_type": "code",
   "execution_count": 12,
   "metadata": {},
   "outputs": [
    {
     "name": "stdout",
     "output_type": "stream",
     "text": [
      "+-------+--------+----------------+--------------------+--------------+----------------+--------------------+------------+------+---------------+--------+\n",
      "|Trip ID|Duration|      Start Date|       Start Station|Start Terminal|        End Date|         End Station|End Terminal|Bike #|Subscriber Type|Zip Code|\n",
      "+-------+--------+----------------+--------------------+--------------+----------------+--------------------+------------+------+---------------+--------+\n",
      "| 508274|      60|10/21/2014 11:57|San Francisco Cal...|            69|10/21/2014 11:58|San Francisco Cal...|          69|   578|     Subscriber|   94107|\n",
      "| 506025|      60| 10/20/2014 8:16|   Market at Sansome|            77| 10/20/2014 8:17|   Market at Sansome|          77|   109|     Subscriber|   94114|\n",
      "| 483333|      60| 10/4/2014 19:21|Yerba Buena Cente...|            68| 10/4/2014 19:22|Yerba Buena Cente...|          68|   560|       Customer|     nil|\n",
      "| 473451|      60|  9/29/2014 7:38|Civic Center BART...|            72|  9/29/2014 7:39|Civic Center BART...|          72|   358|     Subscriber|   94062|\n",
      "| 438041|      60|  9/4/2014 10:53|Civic Center BART...|            72|  9/4/2014 10:54|Civic Center BART...|          72|   291|     Subscriber|   94117|\n",
      "+-------+--------+----------------+--------------------+--------------+----------------+--------------------+------------+------+---------------+--------+\n",
      "only showing top 5 rows\n",
      "\n"
     ]
    }
   ],
   "source": []
  },
  {
   "cell_type": "markdown",
   "metadata": {},
   "source": [
    "In ascending number & print the physical plan"
   ]
  },
  {
   "cell_type": "code",
   "execution_count": 17,
   "metadata": {},
   "outputs": [
    {
     "name": "stdout",
     "output_type": "stream",
     "text": [
      "== Physical Plan ==\n",
      "*(1) Sort [Duration#31 ASC NULLS FIRST], true, 0\n",
      "+- Exchange rangepartitioning(Duration#31 ASC NULLS FIRST, 200), true, [id=#87]\n",
      "   +- FileScan csv [Trip ID#30,Duration#31,Start Date#32,Start Station#33,Start Terminal#34,End Date#35,End Station#36,End Terminal#37,Bike ##38,Subscriber Type#39,Zip Code#40] Batched: false, DataFilters: [], Format: CSV, Location: InMemoryFileIndex[file:/src/201508_trip_data.csv], PartitionFilters: [], PushedFilters: [], ReadSchema: struct<Trip ID:int,Duration:int,Start Date:string,Start Station:string,Start Terminal:int,End Dat...\n",
      "\n",
      "\n"
     ]
    }
   ],
   "source": []
  },
  {
   "cell_type": "markdown",
   "metadata": {},
   "source": [
    "Query the table to display cols in an ordered way :"
   ]
  },
  {
   "cell_type": "code",
   "execution_count": 16,
   "metadata": {},
   "outputs": [
    {
     "name": "stdout",
     "output_type": "stream",
     "text": [
      "+--------+---------------+--------------------+\n",
      "|Duration|     Start Date|         End Station|\n",
      "+--------+---------------+--------------------+\n",
      "|17270400|12/6/2014 21:59|       2nd at Folsom|\n",
      "| 2137000|6/28/2015 21:50|Yerba Buena Cente...|\n",
      "| 1852590|  5/2/2015 6:17|Castro Street and...|\n",
      "| 1133540|7/10/2015 10:35|University and Em...|\n",
      "|  720454|10/30/2014 8:29|Stanford in Redwo...|\n",
      "+--------+---------------+--------------------+\n",
      "\n"
     ]
    }
   ],
   "source": []
  },
  {
   "cell_type": "markdown",
   "metadata": {},
   "source": [
    "Count the \"end station\" col when groupped"
   ]
  },
  {
   "cell_type": "code",
   "execution_count": 17,
   "metadata": {},
   "outputs": [
    {
     "name": "stdout",
     "output_type": "stream",
     "text": [
      "+--------------------+------------------+\n",
      "|         End Station|count(End Station)|\n",
      "+--------------------+------------------+\n",
      "|       2nd at Folsom|              4727|\n",
      "|California Ave Ca...|               496|\n",
      "|Powell at Post (U...|              4134|\n",
      "| Golden Gate at Polk|              2852|\n",
      "|Yerba Buena Cente...|              6288|\n",
      "+--------------------+------------------+\n",
      "\n"
     ]
    }
   ],
   "source": []
  },
  {
   "cell_type": "markdown",
   "metadata": {},
   "source": [
    "Same thing in a scala way"
   ]
  },
  {
   "cell_type": "code",
   "execution_count": 18,
   "metadata": {},
   "outputs": [
    {
     "name": "stdout",
     "output_type": "stream",
     "text": [
      "+--------------------+-----+\n",
      "|         End Station|count|\n",
      "+--------------------+-----+\n",
      "|       2nd at Folsom| 4727|\n",
      "|California Ave Ca...|  496|\n",
      "|Powell at Post (U...| 4134|\n",
      "| Golden Gate at Polk| 2852|\n",
      "|Yerba Buena Cente...| 6288|\n",
      "+--------------------+-----+\n",
      "only showing top 5 rows\n",
      "\n"
     ]
    }
   ],
   "source": []
  },
  {
   "cell_type": "code",
   "execution_count": 29,
   "metadata": {},
   "outputs": [
    {
     "name": "stdout",
     "output_type": "stream",
     "text": [
      "+--------------------+-----+\n",
      "|         End Station|count|\n",
      "+--------------------+-----+\n",
      "|San Francisco Cal...|34810|\n",
      "|San Francisco Cal...|22523|\n",
      "|Harry Bridges Pla...|17810|\n",
      "+--------------------+-----+\n",
      "only showing top 3 rows\n",
      "\n"
     ]
    }
   ],
   "source": []
  },
  {
   "cell_type": "code",
   "execution_count": 26,
   "metadata": {},
   "outputs": [
    {
     "name": "stdout",
     "output_type": "stream",
     "text": [
      "+---------------+\n",
      "|count(Duration)|\n",
      "+---------------+\n",
      "|         354152|\n",
      "+---------------+\n",
      "\n"
     ]
    }
   ],
   "source": []
  },
  {
   "cell_type": "code",
   "execution_count": 27,
   "metadata": {},
   "outputs": [
    {
     "name": "stdout",
     "output_type": "stream",
     "text": [
      "+------------------+------------------+\n",
      "|    mean(Duration)|     avg(Duration)|\n",
      "+------------------+------------------+\n",
      "|1046.0326611172604|1046.0326611172604|\n",
      "+------------------+------------------+\n",
      "\n"
     ]
    }
   ],
   "source": []
  },
  {
   "cell_type": "markdown",
   "metadata": {},
   "source": [
    "Retrieve min and max of a col"
   ]
  },
  {
   "cell_type": "code",
   "execution_count": 28,
   "metadata": {},
   "outputs": [
    {
     "name": "stdout",
     "output_type": "stream",
     "text": [
      "+-------------+-------------+\n",
      "|min(Duration)|max(Duration)|\n",
      "+-------------+-------------+\n",
      "|           60|     17270400|\n",
      "+-------------+-------------+\n",
      "\n"
     ]
    }
   ],
   "source": []
  },
  {
   "cell_type": "code",
   "execution_count": 34,
   "metadata": {},
   "outputs": [
    {
     "name": "stdout",
     "output_type": "stream",
     "text": [
      "+--------------------+-------------+-------------+\n",
      "|         End Station|min(Duration)|max(Duration)|\n",
      "+--------------------+-------------+-------------+\n",
      "|       2nd at Folsom|           61|     17270400|\n",
      "|California Ave Ca...|           82|       688899|\n",
      "|Powell at Post (U...|           66|       141039|\n",
      "| Golden Gate at Polk|           60|       238286|\n",
      "|Yerba Buena Cente...|           60|      2137000|\n",
      "+--------------------+-------------+-------------+\n",
      "only showing top 5 rows\n",
      "\n"
     ]
    }
   ],
   "source": []
  },
  {
   "cell_type": "markdown",
   "metadata": {},
   "source": [
    "and in scala:"
   ]
  },
  {
   "cell_type": "code",
   "execution_count": 32,
   "metadata": {},
   "outputs": [
    {
     "name": "stdout",
     "output_type": "stream",
     "text": [
      "+--------------------+------------+\n",
      "|         End Station|SUM_DURATION|\n",
      "+--------------------+------------+\n",
      "|       2nd at Folsom|    21031718|\n",
      "|California Ave Ca...|     2629339|\n",
      "|Powell at Post (U...|     8691192|\n",
      "| Golden Gate at Polk|     4531730|\n",
      "+--------------------+------------+\n",
      "only showing top 4 rows\n",
      "\n"
     ]
    }
   ],
   "source": []
  },
  {
   "cell_type": "code",
   "execution_count": 35,
   "metadata": {},
   "outputs": [
    {
     "name": "stdout",
     "output_type": "stream",
     "text": [
      "+--------------------+-------------+\n",
      "|         End Station|min(Duration)|\n",
      "+--------------------+-------------+\n",
      "|San Francisco Cal...|           60|\n",
      "|       Howard at 2nd|           60|\n",
      "|   Market at Sansome|           60|\n",
      "|   2nd at South Park|           60|\n",
      "|Yerba Buena Cente...|           60|\n",
      "|Embarcadero at Fo...|           60|\n",
      "|Embarcadero at Sa...|           60|\n",
      "|     2nd at Townsend|           60|\n",
      "|  Powell Street BART|           60|\n",
      "|     Beale at Market|           60|\n",
      "| Golden Gate at Polk|           60|\n",
      "|   Steuart at Market|           60|\n",
      "|      Market at 10th|           60|\n",
      "|Harry Bridges Pla...|           60|\n",
      "|     Spear at Folsom|           60|\n",
      "|Temporary Transba...|           60|\n",
      "|Civic Center BART...|           60|\n",
      "|San Francisco Cal...|           60|\n",
      "|Embarcadero at Va...|           61|\n",
      "|       2nd at Folsom|           61|\n",
      "|       Market at 4th|           61|\n",
      "|     Townsend at 7th|           61|\n",
      "|Mechanics Plaza (...|           61|\n",
      "|San Antonio Caltr...|           61|\n",
      "|Washington at Kearny|           61|\n",
      "|Embarcadero at Br...|           61|\n",
      "|San Jose Diridon ...|           62|\n",
      "|South Van Ness at...|           62|\n",
      "|Commercial at Mon...|           62|\n",
      "|San Antonio Shopp...|           62|\n",
      "+--------------------+-------------+\n",
      "only showing top 30 rows\n",
      "\n"
     ]
    }
   ],
   "source": []
  },
  {
   "cell_type": "code",
   "execution_count": 36,
   "metadata": {},
   "outputs": [
    {
     "name": "stdout",
     "output_type": "stream",
     "text": [
      "+--------------------+-------------+-------------+\n",
      "|         End Station|min(Duration)|max(Duration)|\n",
      "+--------------------+-------------+-------------+\n",
      "|       2nd at Folsom|           61|     17270400|\n",
      "|California Ave Ca...|           82|       688899|\n",
      "|Powell at Post (U...|           66|       141039|\n",
      "| Golden Gate at Polk|           60|       238286|\n",
      "|Yerba Buena Cente...|           60|      2137000|\n",
      "+--------------------+-------------+-------------+\n",
      "only showing top 5 rows\n",
      "\n"
     ]
    }
   ],
   "source": []
  },
  {
   "cell_type": "code",
   "execution_count": 37,
   "metadata": {},
   "outputs": [
    {
     "name": "stdout",
     "output_type": "stream",
     "text": [
      "+--------------------+------------+\n",
      "|         End Station|SUM_DURATION|\n",
      "+--------------------+------------+\n",
      "|       2nd at Folsom|    21031718|\n",
      "|California Ave Ca...|     2629339|\n",
      "|Powell at Post (U...|     8691192|\n",
      "| Golden Gate at Polk|     4531730|\n",
      "|Yerba Buena Cente...|     6658500|\n",
      "+--------------------+------------+\n",
      "only showing top 5 rows\n",
      "\n"
     ]
    }
   ],
   "source": []
  },
  {
   "cell_type": "markdown",
   "metadata": {},
   "source": [
    "rename a col"
   ]
  },
  {
   "cell_type": "code",
   "execution_count": 38,
   "metadata": {},
   "outputs": [
    {
     "name": "stdout",
     "output_type": "stream",
     "text": [
      "+--------+--------------------+------+\n",
      "|Duration|         End_station|Bike #|\n",
      "+--------+--------------------+------+\n",
      "|     765|San Francisco Cal...|   288|\n",
      "|    1036|Mountain View Cit...|    35|\n",
      "+--------+--------------------+------+\n",
      "only showing top 2 rows\n",
      "\n"
     ]
    },
    {
     "data": {
      "text/plain": [
       "df_renamed: org.apache.spark.sql.DataFrame = [Trip ID: int, Duration: int ... 9 more fields]\n"
      ]
     },
     "execution_count": 38,
     "metadata": {},
     "output_type": "execute_result"
    }
   ],
   "source": []
  },
  {
   "cell_type": "code",
   "execution_count": 39,
   "metadata": {},
   "outputs": [
    {
     "name": "stdout",
     "output_type": "stream",
     "text": [
      "+--------+--------------------+-------+\n",
      "|Duration|         End station|Bike NB|\n",
      "+--------+--------------------+-------+\n",
      "|     765|San Francisco Cal...|    288|\n",
      "|    1036|Mountain View Cit...|     35|\n",
      "|     307|   2nd at South Park|    468|\n",
      "|     409| San Salvador at 1st|     68|\n",
      "+--------+--------------------+-------+\n",
      "only showing top 4 rows\n",
      "\n"
     ]
    }
   ],
   "source": []
  },
  {
   "cell_type": "code",
   "execution_count": 40,
   "metadata": {},
   "outputs": [
    {
     "name": "stdout",
     "output_type": "stream",
     "text": [
      "+--------+--------------------+\n",
      "|DURATION|         END STATION|\n",
      "+--------+--------------------+\n",
      "|     765|San Francisco Cal...|\n",
      "|    1036|Mountain View Cit...|\n",
      "|     307|   2nd at South Park|\n",
      "|     409| San Salvador at 1st|\n",
      "+--------+--------------------+\n",
      "only showing top 4 rows\n",
      "\n"
     ]
    }
   ],
   "source": []
  },
  {
   "cell_type": "markdown",
   "metadata": {},
   "source": [
    "That's all for this gentle introduction : hope you've enjoyed it :)"
   ]
  }
 ],
 "metadata": {
  "kernelspec": {
   "display_name": "spylon-kernel",
   "language": "scala",
   "name": "spylon-kernel"
  },
  "language_info": {
   "codemirror_mode": "text/x-scala",
   "file_extension": ".scala",
   "help_links": [
    {
     "text": "MetaKernel Magics",
     "url": "https://metakernel.readthedocs.io/en/latest/source/README.html"
    }
   ],
   "mimetype": "text/x-scala",
   "name": "scala",
   "pygments_lexer": "scala",
   "version": "0.4.1"
  }
 },
 "nbformat": 4,
 "nbformat_minor": 4
}
