{
 "cells": [
  {
   "cell_type": "markdown",
   "metadata": {},
   "source": [
    "# Basic Structured Operations"
   ]
  },
  {
   "cell_type": "markdown",
   "metadata": {},
   "source": [
    "At first let's create a spark session"
   ]
  },
  {
   "cell_type": "code",
   "execution_count": 2,
   "metadata": {},
   "outputs": [
    {
     "data": {
      "text/plain": [
       "import org.apache.spark.sql.SparkSession\n",
       "spark: org.apache.spark.sql.SparkSession = org.apache.spark.sql.SparkSession@4a5c6013\n"
      ]
     },
     "execution_count": 2,
     "metadata": {},
     "output_type": "execute_result"
    }
   ],
   "source": []
  },
  {
   "cell_type": "markdown",
   "metadata": {},
   "source": [
    "Then we've to retrieve the path of the dataset's csv file... "
   ]
  },
  {
   "cell_type": "code",
   "execution_count": 70,
   "metadata": {},
   "outputs": [
    {
     "name": "stdout",
     "output_type": "stream",
     "text": [
      "../../src/201508_station_data.csv\r\n",
      "\n"
     ]
    }
   ],
   "source": [
    "!ls ../../src/201508_station_data.csv"
   ]
  },
  {
   "cell_type": "markdown",
   "metadata": {},
   "source": [
    "in order to load/read it:"
   ]
  },
  {
   "cell_type": "code",
   "execution_count": 4,
   "metadata": {},
   "outputs": [
    {
     "name": "stdout",
     "output_type": "stream",
     "text": [
      "+----------+--------------------+---------+-----------+---------+--------+------------+\n",
      "|station_id|                name|      lat|       long|dockcount|landmark|installation|\n",
      "+----------+--------------------+---------+-----------+---------+--------+------------+\n",
      "|         2|San Jose Diridon ...|37.329732|-121.901782|       27|San Jose|    8/6/2013|\n",
      "|         3|San Jose Civic Ce...|37.330698|-121.888979|       15|San Jose|    8/5/2013|\n",
      "|         4|Santa Clara at Al...|37.333988|-121.894902|       11|San Jose|    8/6/2013|\n",
      "|         5|    Adobe on Almaden|37.331415|  -121.8932|       19|San Jose|    8/5/2013|\n",
      "|         6|    San Pedro Square|37.336721|-121.894074|       15|San Jose|    8/7/2013|\n",
      "+----------+--------------------+---------+-----------+---------+--------+------------+\n",
      "only showing top 5 rows\n",
      "\n"
     ]
    },
    {
     "data": {
      "text/plain": [
       "df: org.apache.spark.sql.DataFrame = [station_id: int, name: string ... 5 more fields]\n"
      ]
     },
     "execution_count": 4,
     "metadata": {},
     "output_type": "execute_result"
    }
   ],
   "source": []
  },
  {
   "cell_type": "markdown",
   "metadata": {},
   "source": [
    "List all the colums of our dataset (in a Scala array)"
   ]
  },
  {
   "cell_type": "code",
   "execution_count": 5,
   "metadata": {},
   "outputs": [
    {
     "data": {
      "text/plain": [
       "res1: Array[String] = Array(station_id, name, lat, long, dockcount, landmark, installation)\n"
      ]
     },
     "execution_count": 5,
     "metadata": {},
     "output_type": "execute_result"
    }
   ],
   "source": []
  },
  {
   "cell_type": "markdown",
   "metadata": {},
   "source": [
    "We can also get the number of cols"
   ]
  },
  {
   "cell_type": "code",
   "execution_count": 6,
   "metadata": {},
   "outputs": [
    {
     "data": {
      "text/plain": [
       "res2: Int = 7\n"
      ]
     },
     "execution_count": 6,
     "metadata": {},
     "output_type": "execute_result"
    }
   ],
   "source": []
  },
  {
   "cell_type": "markdown",
   "metadata": {},
   "source": [
    "with the number of rows"
   ]
  },
  {
   "cell_type": "code",
   "execution_count": 7,
   "metadata": {},
   "outputs": [
    {
     "data": {
      "text/plain": [
       "res3: Long = 70\n"
      ]
     },
     "execution_count": 7,
     "metadata": {},
     "output_type": "execute_result"
    }
   ],
   "source": []
  },
  {
   "cell_type": "markdown",
   "metadata": {},
   "source": [
    "We can retrieve the first element of the columns this way:"
   ]
  },
  {
   "cell_type": "code",
   "execution_count": 8,
   "metadata": {},
   "outputs": [
    {
     "data": {
      "text/plain": [
       "res4: String = station_id\n"
      ]
     },
     "execution_count": 8,
     "metadata": {},
     "output_type": "execute_result"
    }
   ],
   "source": []
  },
  {
   "cell_type": "markdown",
   "metadata": {},
   "source": [
    "Now, let's add 5 to all station_id rows"
   ]
  },
  {
   "cell_type": "code",
   "execution_count": 9,
   "metadata": {},
   "outputs": [
    {
     "name": "stdout",
     "output_type": "stream",
     "text": [
      "+----------------+\n",
      "|(station_id + 5)|\n",
      "+----------------+\n",
      "|               7|\n",
      "|               8|\n",
      "|               9|\n",
      "|              10|\n",
      "|              11|\n",
      "+----------------+\n",
      "only showing top 5 rows\n",
      "\n"
     ]
    }
   ],
   "source": []
  },
  {
   "cell_type": "markdown",
   "metadata": {},
   "source": [
    "The same thing can be done differently :"
   ]
  },
  {
   "cell_type": "code",
   "execution_count": 10,
   "metadata": {},
   "outputs": [
    {
     "name": "stdout",
     "output_type": "stream",
     "text": [
      "+----------------+\n",
      "|(station_id + 5)|\n",
      "+----------------+\n",
      "|               7|\n",
      "|               8|\n",
      "|               9|\n",
      "|              10|\n",
      "|              11|\n",
      "+----------------+\n",
      "only showing top 5 rows\n",
      "\n"
     ]
    }
   ],
   "source": []
  },
  {
   "cell_type": "markdown",
   "metadata": {},
   "source": [
    "Creation of a row / record:"
   ]
  },
  {
   "cell_type": "code",
   "execution_count": 11,
   "metadata": {},
   "outputs": [
    {
     "data": {
      "text/plain": [
       "import org.apache.spark.sql.Row\n",
       "myRow: org.apache.spark.sql.Row = [Hello,null,1,false]\n",
       "res7: Any = Hello\n"
      ]
     },
     "execution_count": 11,
     "metadata": {},
     "output_type": "execute_result"
    }
   ],
   "source": []
  },
  {
   "cell_type": "markdown",
   "metadata": {},
   "source": [
    "then display various elements of this row"
   ]
  },
  {
   "cell_type": "code",
   "execution_count": 12,
   "metadata": {},
   "outputs": [
    {
     "name": "stdout",
     "output_type": "stream",
     "text": [
      "null\n",
      "1\n",
      "false\n"
     ]
    }
   ],
   "source": []
  },
  {
   "cell_type": "code",
   "execution_count": 13,
   "metadata": {},
   "outputs": [
    {
     "data": {
      "text/plain": [
       "res9: String = Hello\n"
      ]
     },
     "execution_count": 13,
     "metadata": {},
     "output_type": "execute_result"
    }
   ],
   "source": []
  },
  {
   "cell_type": "code",
   "execution_count": 14,
   "metadata": {},
   "outputs": [
    {
     "data": {
      "text/plain": [
       "res10: Int = 1\n"
      ]
     },
     "execution_count": 14,
     "metadata": {},
     "output_type": "execute_result"
    }
   ],
   "source": []
  },
  {
   "cell_type": "code",
   "execution_count": 15,
   "metadata": {},
   "outputs": [
    {
     "data": {
      "text/plain": [
       "res11: Boolean = false\n"
      ]
     },
     "execution_count": 15,
     "metadata": {},
     "output_type": "execute_result"
    }
   ],
   "source": []
  },
  {
   "cell_type": "markdown",
   "metadata": {},
   "source": [
    "Create DF from rows with a manual schema"
   ]
  },
  {
   "cell_type": "code",
   "execution_count": 23,
   "metadata": {},
   "outputs": [
    {
     "name": "stdout",
     "output_type": "stream",
     "text": [
      "+----------+-----+----+\n",
      "|someString|names|idNb|\n",
      "+----------+-----+----+\n",
      "|     Hello| null|   1|\n",
      "|     What?| test|  10|\n",
      "+----------+-----+----+\n",
      "\n"
     ]
    },
    {
     "data": {
      "text/plain": [
       "import org.apache.spark.sql.types._\n",
       "myManualSchema: org.apache.spark.sql.types.StructType = StructType(StructField(someString,StringType,true), StructField(names,StringType,true), StructField(idNb,LongType,false))\n",
       "myRows: Seq[org.apache.spark.sql.Row] = List([Hello,null,1], [What?,test,10])\n",
       "myRDD: org.apache.spark.rdd.RDD[org.apache.spark.sql.Row] = ParallelCollectionRDD[41] at parallelize at <console>:50\n",
       "myDF: org.apache.spark.sql.DataFrame = [someString: string, names: string ... 1 more field]\n"
      ]
     },
     "execution_count": 23,
     "metadata": {},
     "output_type": "execute_result"
    }
   ],
   "source": []
  },
  {
   "cell_type": "markdown",
   "metadata": {},
   "source": [
    "Or you can simply convert a Seq (aka a list in Python) to a DF:"
   ]
  },
  {
   "cell_type": "code",
   "execution_count": 24,
   "metadata": {},
   "outputs": [
    {
     "name": "stdout",
     "output_type": "stream",
     "text": [
      "+-----+----+----+\n",
      "| col1|col2|col3|\n",
      "+-----+----+----+\n",
      "|Hello|   2|   1|\n",
      "+-----+----+----+\n",
      "\n"
     ]
    },
    {
     "data": {
      "text/plain": [
       "myDF: org.apache.spark.sql.DataFrame = [col1: string, col2: int ... 1 more field]\n"
      ]
     },
     "execution_count": 24,
     "metadata": {},
     "output_type": "execute_result"
    }
   ],
   "source": []
  },
  {
   "cell_type": "markdown",
   "metadata": {},
   "source": [
    "Change a column name"
   ]
  },
  {
   "cell_type": "code",
   "execution_count": 25,
   "metadata": {},
   "outputs": [
    {
     "name": "stdout",
     "output_type": "stream",
     "text": [
      "+----------+--------------------+----------+-----------+---------+--------+------------+\n",
      "|station_id|                name|LATTITUDE!|       long|dockcount|landmark|installation|\n",
      "+----------+--------------------+----------+-----------+---------+--------+------------+\n",
      "|         2|San Jose Diridon ...| 37.329732|-121.901782|       27|San Jose|    8/6/2013|\n",
      "|         3|San Jose Civic Ce...| 37.330698|-121.888979|       15|San Jose|    8/5/2013|\n",
      "+----------+--------------------+----------+-----------+---------+--------+------------+\n",
      "only showing top 2 rows\n",
      "\n"
     ]
    }
   ],
   "source": []
  },
  {
   "cell_type": "code",
   "execution_count": 26,
   "metadata": {},
   "outputs": [
    {
     "name": "stdout",
     "output_type": "stream",
     "text": [
      "+--------------------+\n",
      "|                NAME|\n",
      "+--------------------+\n",
      "|San Jose Diridon ...|\n",
      "|San Jose Civic Ce...|\n",
      "+--------------------+\n",
      "only showing top 2 rows\n",
      "\n"
     ]
    }
   ],
   "source": []
  },
  {
   "cell_type": "markdown",
   "metadata": {},
   "source": [
    "Same thing in an SQL way"
   ]
  },
  {
   "cell_type": "code",
   "execution_count": 27,
   "metadata": {},
   "outputs": [
    {
     "name": "stdout",
     "output_type": "stream",
     "text": [
      "+-----------+\n",
      "|  LONGITUDE|\n",
      "+-----------+\n",
      "|-121.901782|\n",
      "|-121.888979|\n",
      "|-121.894902|\n",
      "|  -121.8932|\n",
      "+-----------+\n",
      "\n"
     ]
    },
    {
     "data": {
      "text/plain": [
       "import org.apache.spark.sql.functions._\n"
      ]
     },
     "execution_count": 27,
     "metadata": {},
     "output_type": "execute_result"
    }
   ],
   "source": []
  },
  {
   "cell_type": "code",
   "execution_count": 28,
   "metadata": {},
   "outputs": [],
   "source": [
    "//https://mungingdata.com/apache-spark/aggregations/"
   ]
  },
  {
   "cell_type": "markdown",
   "metadata": {},
   "source": [
    "Duplicate landmark only if lockcount > 20"
   ]
  },
  {
   "cell_type": "code",
   "execution_count": 29,
   "metadata": {},
   "outputs": [
    {
     "name": "stdout",
     "output_type": "stream",
     "text": [
      "+----------+--------------------+---------+-----------+---------+--------+------------+------------+\n",
      "|station_id|                name|      lat|       long|dockcount|landmark|installation|landmark_bis|\n",
      "+----------+--------------------+---------+-----------+---------+--------+------------+------------+\n",
      "|         2|San Jose Diridon ...|37.329732|-121.901782|       27|San Jose|    8/6/2013|    San Jose|\n",
      "|         3|San Jose Civic Ce...|37.330698|-121.888979|       15|San Jose|    8/5/2013|        null|\n",
      "|         4|Santa Clara at Al...|37.333988|-121.894902|       11|San Jose|    8/6/2013|        null|\n",
      "|         5|    Adobe on Almaden|37.331415|  -121.8932|       19|San Jose|    8/5/2013|        null|\n",
      "+----------+--------------------+---------+-----------+---------+--------+------------+------------+\n",
      "only showing top 4 rows\n",
      "\n"
     ]
    },
    {
     "data": {
      "text/plain": [
       "df_dup: org.apache.spark.sql.DataFrame = [station_id: int, name: string ... 6 more fields]\n"
      ]
     },
     "execution_count": 29,
     "metadata": {},
     "output_type": "execute_result"
    }
   ],
   "source": []
  },
  {
   "cell_type": "markdown",
   "metadata": {},
   "source": [
    "add an other condition"
   ]
  },
  {
   "cell_type": "code",
   "execution_count": 30,
   "metadata": {},
   "outputs": [
    {
     "name": "stdout",
     "output_type": "stream",
     "text": [
      "+----------+--------------------+---------+-----------+---------+--------+------------+------------+\n",
      "|station_id|                name|      lat|       long|dockcount|landmark|installation|landmark_ter|\n",
      "+----------+--------------------+---------+-----------+---------+--------+------------+------------+\n",
      "|         2|San Jose Diridon ...|37.329732|-121.901782|       27|San Jose|    8/6/2013|    San Jose|\n",
      "|         3|San Jose Civic Ce...|37.330698|-121.888979|       15|San Jose|    8/5/2013|         bbb|\n",
      "|         4|Santa Clara at Al...|37.333988|-121.894902|       11|San Jose|    8/6/2013|        test|\n",
      "|         5|    Adobe on Almaden|37.331415|  -121.8932|       19|San Jose|    8/5/2013|         bbb|\n",
      "+----------+--------------------+---------+-----------+---------+--------+------------+------------+\n",
      "only showing top 4 rows\n",
      "\n"
     ]
    },
    {
     "data": {
      "text/plain": [
       "df_ter: org.apache.spark.sql.DataFrame = [station_id: int, name: string ... 6 more fields]\n"
      ]
     },
     "execution_count": 30,
     "metadata": {},
     "output_type": "execute_result"
    }
   ],
   "source": []
  },
  {
   "cell_type": "markdown",
   "metadata": {},
   "source": [
    "Create a new col depending on the fact that two cols are the same"
   ]
  },
  {
   "cell_type": "code",
   "execution_count": 31,
   "metadata": {},
   "outputs": [
    {
     "name": "stdout",
     "output_type": "stream",
     "text": [
      "+----------+--------------------+---------+-----------+---------+--------+------------+------------+----+\n",
      "|station_id|                name|      lat|       long|dockcount|landmark|installation|landmark_bis|  EL|\n",
      "+----------+--------------------+---------+-----------+---------+--------+------------+------------+----+\n",
      "|         2|San Jose Diridon ...|37.329732|-121.901782|       27|San Jose|    8/6/2013|    San Jose|true|\n",
      "|         3|San Jose Civic Ce...|37.330698|-121.888979|       15|San Jose|    8/5/2013|        null|null|\n",
      "|         4|Santa Clara at Al...|37.333988|-121.894902|       11|San Jose|    8/6/2013|        null|null|\n",
      "|         5|    Adobe on Almaden|37.331415|  -121.8932|       19|San Jose|    8/5/2013|        null|null|\n",
      "+----------+--------------------+---------+-----------+---------+--------+------------+------------+----+\n",
      "only showing top 4 rows\n",
      "\n"
     ]
    }
   ],
   "source": []
  },
  {
   "cell_type": "markdown",
   "metadata": {},
   "source": [
    "Same thing the SQL Way"
   ]
  },
  {
   "cell_type": "code",
   "execution_count": 32,
   "metadata": {},
   "outputs": [
    {
     "name": "stdout",
     "output_type": "stream",
     "text": [
      "+----------+--------------------+---------+-----------+---------+--------+------------+------------+----+\n",
      "|station_id|                name|      lat|       long|dockcount|landmark|installation|landmark_bis|  EL|\n",
      "+----------+--------------------+---------+-----------+---------+--------+------------+------------+----+\n",
      "|         2|San Jose Diridon ...|37.329732|-121.901782|       27|San Jose|    8/6/2013|    San Jose|true|\n",
      "|         3|San Jose Civic Ce...|37.330698|-121.888979|       15|San Jose|    8/5/2013|        null|null|\n",
      "|         4|Santa Clara at Al...|37.333988|-121.894902|       11|San Jose|    8/6/2013|        null|null|\n",
      "|         5|    Adobe on Almaden|37.331415|  -121.8932|       19|San Jose|    8/5/2013|        null|null|\n",
      "+----------+--------------------+---------+-----------+---------+--------+------------+------------+----+\n",
      "\n"
     ]
    }
   ],
   "source": []
  },
  {
   "cell_type": "code",
   "execution_count": 33,
   "metadata": {},
   "outputs": [],
   "source": [
    "//https://hackersandslackers.com/transforming-pyspark-dataframes/"
   ]
  },
  {
   "cell_type": "markdown",
   "metadata": {},
   "source": [
    "Average of a col values"
   ]
  },
  {
   "cell_type": "code",
   "execution_count": 34,
   "metadata": {},
   "outputs": [
    {
     "name": "stdout",
     "output_type": "stream",
     "text": [
      "+---------------+\n",
      "|avg(station_id)|\n",
      "+---------------+\n",
      "|           43.0|\n",
      "+---------------+\n",
      "\n"
     ]
    }
   ],
   "source": []
  },
  {
   "cell_type": "code",
   "execution_count": 35,
   "metadata": {},
   "outputs": [
    {
     "name": "stdout",
     "output_type": "stream",
     "text": [
      "+---------------+\n",
      "|avg(station_id)|\n",
      "+---------------+\n",
      "|           43.0|\n",
      "+---------------+\n",
      "\n"
     ]
    }
   ],
   "source": []
  },
  {
   "cell_type": "markdown",
   "metadata": {},
   "source": [
    "Discting rows nb"
   ]
  },
  {
   "cell_type": "code",
   "execution_count": 36,
   "metadata": {},
   "outputs": [
    {
     "data": {
      "text/plain": [
       "res29: Long = 70\n"
      ]
     },
     "execution_count": 36,
     "metadata": {},
     "output_type": "execute_result"
    }
   ],
   "source": []
  },
  {
   "cell_type": "markdown",
   "metadata": {},
   "source": [
    "Count distinct with 1 col"
   ]
  },
  {
   "cell_type": "code",
   "execution_count": 37,
   "metadata": {},
   "outputs": [
    {
     "data": {
      "text/plain": [
       "res30: Long = 5\n"
      ]
     },
     "execution_count": 37,
     "metadata": {},
     "output_type": "execute_result"
    }
   ],
   "source": []
  },
  {
   "cell_type": "code",
   "execution_count": 38,
   "metadata": {},
   "outputs": [
    {
     "name": "stdout",
     "output_type": "stream",
     "text": [
      "+------------------------+\n",
      "|count(DISTINCT landmark)|\n",
      "+------------------------+\n",
      "|                       5|\n",
      "+------------------------+\n",
      "\n"
     ]
    }
   ],
   "source": []
  },
  {
   "cell_type": "markdown",
   "metadata": {},
   "source": [
    "Count distinct with 2 cols"
   ]
  },
  {
   "cell_type": "code",
   "execution_count": 39,
   "metadata": {},
   "outputs": [
    {
     "name": "stdout",
     "output_type": "stream",
     "text": [
      "+--------------------------------------+\n",
      "|count(DISTINCT landmark, landmark_ter)|\n",
      "+--------------------------------------+\n",
      "|                                    13|\n",
      "+--------------------------------------+\n",
      "\n"
     ]
    }
   ],
   "source": []
  },
  {
   "cell_type": "code",
   "execution_count": 40,
   "metadata": {},
   "outputs": [
    {
     "data": {
      "text/plain": [
       "res33: Long = 13\n"
      ]
     },
     "execution_count": 40,
     "metadata": {},
     "output_type": "execute_result"
    }
   ],
   "source": []
  },
  {
   "cell_type": "markdown",
   "metadata": {},
   "source": [
    "converting to spark literal types"
   ]
  },
  {
   "cell_type": "code",
   "execution_count": 41,
   "metadata": {},
   "outputs": [
    {
     "name": "stdout",
     "output_type": "stream",
     "text": [
      "+--------+---+\n",
      "|landmark|one|\n",
      "+--------+---+\n",
      "|San Jose|  1|\n",
      "|San Jose|  1|\n",
      "|San Jose|  1|\n",
      "+--------+---+\n",
      "only showing top 3 rows\n",
      "\n"
     ]
    }
   ],
   "source": []
  },
  {
   "cell_type": "markdown",
   "metadata": {},
   "source": [
    "Adding col with literal"
   ]
  },
  {
   "cell_type": "code",
   "execution_count": 42,
   "metadata": {},
   "outputs": [
    {
     "name": "stdout",
     "output_type": "stream",
     "text": [
      "+----------+--------------------+---------+-----------+---------+--------+------------+---+\n",
      "|station_id|                name|      lat|       long|dockcount|landmark|installation|one|\n",
      "+----------+--------------------+---------+-----------+---------+--------+------------+---+\n",
      "|         2|San Jose Diridon ...|37.329732|-121.901782|       27|San Jose|    8/6/2013|  1|\n",
      "|         3|San Jose Civic Ce...|37.330698|-121.888979|       15|San Jose|    8/5/2013|  1|\n",
      "|         4|Santa Clara at Al...|37.333988|-121.894902|       11|San Jose|    8/6/2013|  1|\n",
      "+----------+--------------------+---------+-----------+---------+--------+------------+---+\n",
      "only showing top 3 rows\n",
      "\n"
     ]
    }
   ],
   "source": []
  },
  {
   "cell_type": "markdown",
   "metadata": {},
   "source": [
    "Adding col with a condition"
   ]
  },
  {
   "cell_type": "code",
   "execution_count": 43,
   "metadata": {},
   "outputs": [
    {
     "name": "stdout",
     "output_type": "stream",
     "text": [
      "+----------+--------------------+---------+-----------+---------+--------+------------+-------+\n",
      "|station_id|                name|      lat|       long|dockcount|landmark|installation|greater|\n",
      "+----------+--------------------+---------+-----------+---------+--------+------------+-------+\n",
      "|         2|San Jose Diridon ...|37.329732|-121.901782|       27|San Jose|    8/6/2013|   true|\n",
      "|         3|San Jose Civic Ce...|37.330698|-121.888979|       15|San Jose|    8/5/2013|  false|\n",
      "|         4|Santa Clara at Al...|37.333988|-121.894902|       11|San Jose|    8/6/2013|  false|\n",
      "|         5|    Adobe on Almaden|37.331415|  -121.8932|       19|San Jose|    8/5/2013|   true|\n",
      "|         6|    San Pedro Square|37.336721|-121.894074|       15|San Jose|    8/7/2013|  false|\n",
      "+----------+--------------------+---------+-----------+---------+--------+------------+-------+\n",
      "only showing top 5 rows\n",
      "\n"
     ]
    }
   ],
   "source": []
  },
  {
   "cell_type": "code",
   "execution_count": 44,
   "metadata": {},
   "outputs": [
    {
     "name": "stdout",
     "output_type": "stream",
     "text": [
      "+----------+--------------------+---------+-----------+---------+--------+------------+------------+-----+\n",
      "|station_id|                name|      lat|       long|dockcount|landmark|installation|landmark_ter|equal|\n",
      "+----------+--------------------+---------+-----------+---------+--------+------------+------------+-----+\n",
      "|         2|San Jose Diridon ...|37.329732|-121.901782|       27|San Jose|    8/6/2013|    San Jose| true|\n",
      "|         3|San Jose Civic Ce...|37.330698|-121.888979|       15|San Jose|    8/5/2013|         bbb|false|\n",
      "|         4|Santa Clara at Al...|37.333988|-121.894902|       11|San Jose|    8/6/2013|        test|false|\n",
      "|         5|    Adobe on Almaden|37.331415|  -121.8932|       19|San Jose|    8/5/2013|         bbb|false|\n",
      "|         6|    San Pedro Square|37.336721|-121.894074|       15|San Jose|    8/7/2013|         bbb|false|\n",
      "+----------+--------------------+---------+-----------+---------+--------+------------+------------+-----+\n",
      "only showing top 5 rows\n",
      "\n"
     ]
    }
   ],
   "source": []
  },
  {
   "cell_type": "markdown",
   "metadata": {},
   "source": [
    "Duplicate a col"
   ]
  },
  {
   "cell_type": "code",
   "execution_count": 45,
   "metadata": {},
   "outputs": [
    {
     "name": "stdout",
     "output_type": "stream",
     "text": [
      "+----------+--------------------+---------+-----------+---------+--------+------------+--------+\n",
      "|station_id|                name|      lat|       long|dockcount|landmark|installation| newName|\n",
      "+----------+--------------------+---------+-----------+---------+--------+------------+--------+\n",
      "|         2|San Jose Diridon ...|37.329732|-121.901782|       27|San Jose|    8/6/2013|San Jose|\n",
      "|         3|San Jose Civic Ce...|37.330698|-121.888979|       15|San Jose|    8/5/2013|San Jose|\n",
      "+----------+--------------------+---------+-----------+---------+--------+------------+--------+\n",
      "only showing top 2 rows\n",
      "\n"
     ]
    }
   ],
   "source": []
  },
  {
   "cell_type": "markdown",
   "metadata": {},
   "source": [
    "Drop columns"
   ]
  },
  {
   "cell_type": "code",
   "execution_count": 46,
   "metadata": {},
   "outputs": [
    {
     "name": "stdout",
     "output_type": "stream",
     "text": [
      "+----------+-----------+---------+--------+------------+\n",
      "|station_id|       long|dockcount|landmark|installation|\n",
      "+----------+-----------+---------+--------+------------+\n",
      "|         2|-121.901782|       27|San Jose|    8/6/2013|\n",
      "|         3|-121.888979|       15|San Jose|    8/5/2013|\n",
      "+----------+-----------+---------+--------+------------+\n",
      "only showing top 2 rows\n",
      "\n"
     ]
    }
   ],
   "source": []
  },
  {
   "cell_type": "markdown",
   "metadata": {},
   "source": [
    "Changing column type"
   ]
  },
  {
   "cell_type": "code",
   "execution_count": 47,
   "metadata": {},
   "outputs": [
    {
     "name": "stdout",
     "output_type": "stream",
     "text": [
      "root\n",
      " |-- station_id: integer (nullable = true)\n",
      " |-- name: string (nullable = true)\n",
      " |-- lat: double (nullable = true)\n",
      " |-- long: double (nullable = true)\n",
      " |-- dockcount: integer (nullable = true)\n",
      " |-- landmark: string (nullable = true)\n",
      " |-- installation: string (nullable = true)\n",
      " |-- newDockCount: long (nullable = true)\n",
      "\n"
     ]
    }
   ],
   "source": []
  },
  {
   "cell_type": "markdown",
   "metadata": {},
   "source": [
    "Filtering rows (numerical condition)"
   ]
  },
  {
   "cell_type": "code",
   "execution_count": 48,
   "metadata": {},
   "outputs": [
    {
     "name": "stdout",
     "output_type": "stream",
     "text": [
      "+----------+--------------------+---------+-----------+---------+--------+------------+\n",
      "|station_id|                name|      lat|       long|dockcount|landmark|installation|\n",
      "+----------+--------------------+---------+-----------+---------+--------+------------+\n",
      "|         2|San Jose Diridon ...|37.329732|-121.901782|       27|San Jose|    8/6/2013|\n",
      "|         5|    Adobe on Almaden|37.331415|  -121.8932|       19|San Jose|    8/5/2013|\n",
      "|        11|         MLK Library|37.335885| -121.88566|       19|San Jose|    8/6/2013|\n",
      "|        12|SJSU 4th at San C...|37.332808|-121.883891|       19|San Jose|    8/7/2013|\n",
      "|        14|Arena Green / SAP...|37.332692|-121.900084|       19|San Jose|    8/5/2013|\n",
      "+----------+--------------------+---------+-----------+---------+--------+------------+\n",
      "only showing top 5 rows\n",
      "\n"
     ]
    }
   ],
   "source": []
  },
  {
   "cell_type": "code",
   "execution_count": 49,
   "metadata": {},
   "outputs": [
    {
     "name": "stdout",
     "output_type": "stream",
     "text": [
      "+----------+--------------------+---------+-----------+---------+--------+------------+\n",
      "|station_id|                name|      lat|       long|dockcount|landmark|installation|\n",
      "+----------+--------------------+---------+-----------+---------+--------+------------+\n",
      "|         5|    Adobe on Almaden|37.331415|  -121.8932|       19|San Jose|    8/5/2013|\n",
      "|        11|         MLK Library|37.335885| -121.88566|       19|San Jose|    8/6/2013|\n",
      "|        12|SJSU 4th at San C...|37.332808|-121.883891|       19|San Jose|    8/7/2013|\n",
      "+----------+--------------------+---------+-----------+---------+--------+------------+\n",
      "only showing top 3 rows\n",
      "\n"
     ]
    }
   ],
   "source": []
  },
  {
   "cell_type": "markdown",
   "metadata": {},
   "source": [
    "Same thing the SQL Way"
   ]
  },
  {
   "cell_type": "code",
   "execution_count": 50,
   "metadata": {},
   "outputs": [
    {
     "name": "stdout",
     "output_type": "stream",
     "text": [
      "+----------+--------------------+---------+-----------+---------+--------+------------+------------+\n",
      "|station_id|                name|      lat|       long|dockcount|landmark|installation|landmark_bis|\n",
      "+----------+--------------------+---------+-----------+---------+--------+------------+------------+\n",
      "|         5|    Adobe on Almaden|37.331415|  -121.8932|       19|San Jose|    8/5/2013|        null|\n",
      "|        11|         MLK Library|37.335885| -121.88566|       19|San Jose|    8/6/2013|        null|\n",
      "|        12|SJSU 4th at San C...|37.332808|-121.883891|       19|San Jose|    8/7/2013|        null|\n",
      "+----------+--------------------+---------+-----------+---------+--------+------------+------------+\n",
      "only showing top 3 rows\n",
      "\n"
     ]
    }
   ],
   "source": []
  },
  {
   "cell_type": "markdown",
   "metadata": {},
   "source": [
    "Filtering rows : 2 conditions on strings"
   ]
  },
  {
   "cell_type": "code",
   "execution_count": 51,
   "metadata": {},
   "outputs": [
    {
     "name": "stdout",
     "output_type": "stream",
     "text": [
      "+----------+--------------------+---------+-----------+---------+-------------+------------+\n",
      "|station_id|                name|      lat|       long|dockcount|     landmark|installation|\n",
      "+----------+--------------------+---------+-----------+---------+-------------+------------+\n",
      "|         2|San Jose Diridon ...|37.329732|-121.901782|       27|     San Jose|    8/6/2013|\n",
      "|         4|Santa Clara at Al...|37.333988|-121.894902|       11|     San Jose|    8/6/2013|\n",
      "|         5|    Adobe on Almaden|37.331415|  -121.8932|       19|     San Jose|    8/5/2013|\n",
      "|        11|         MLK Library|37.335885| -121.88566|       19|     San Jose|    8/6/2013|\n",
      "|        12|SJSU 4th at San C...|37.332808|-121.883891|       19|     San Jose|    8/7/2013|\n",
      "|        14|Arena Green / SAP...|37.332692|-121.900084|       19|     San Jose|    8/5/2013|\n",
      "|        28|Mountain View Cal...|37.394358|-122.076713|       23|Mountain View|   8/15/2013|\n",
      "|        29|San Antonio Caltr...| 37.40694|-122.106758|       23|Mountain View|   8/15/2013|\n",
      "|        32|Castro Street and...|37.385956|-122.083678|       11|Mountain View|  12/31/2013|\n",
      "|        34|Palo Alto Caltrai...|37.443988|-122.164759|       23|    Palo Alto|   8/14/2013|\n",
      "|        35|University and Em...|37.444521|-122.163093|       11|    Palo Alto|   8/15/2013|\n",
      "|        37|Cowper at University|37.448598|-122.159504|       11|    Palo Alto|   8/14/2013|\n",
      "|        47|     Post at Kearney|37.788975|-122.403452|       19|San Francisco|   8/19/2013|\n",
      "|        49|     Spear at Folsom|37.790302|-122.390637|       19|San Francisco|   8/20/2013|\n",
      "|        50|Harry Bridges Pla...|37.795392|-122.394203|       23|San Francisco|   8/20/2013|\n",
      "|        51|Embarcadero at Fo...|37.791464|-122.391034|       19|San Francisco|   8/20/2013|\n",
      "|        39|  Powell Street BART|37.783871|-122.408433|       19|San Francisco|   8/25/2013|\n",
      "|        55|Temporary Transba...|37.789756|-122.394643|       23|San Francisco|   8/20/2013|\n",
      "|        56|     Beale at Market|37.792251|-122.397086|       19|San Francisco|   8/20/2013|\n",
      "|        58|San Francisco Cit...| 37.77865|-122.418235|       19|San Francisco|   8/21/2013|\n",
      "+----------+--------------------+---------+-----------+---------+-------------+------------+\n",
      "only showing top 20 rows\n",
      "\n"
     ]
    }
   ],
   "source": []
  },
  {
   "cell_type": "markdown",
   "metadata": {},
   "source": [
    "Same thing the SQL Way"
   ]
  },
  {
   "cell_type": "code",
   "execution_count": 52,
   "metadata": {},
   "outputs": [
    {
     "name": "stdout",
     "output_type": "stream",
     "text": [
      "+----------+--------------------+---------+-----------+---------+-------------+------------+-------------+\n",
      "|station_id|                name|      lat|       long|dockcount|     landmark|installation| landmark_bis|\n",
      "+----------+--------------------+---------+-----------+---------+-------------+------------+-------------+\n",
      "|         2|San Jose Diridon ...|37.329732|-121.901782|       27|     San Jose|    8/6/2013|     San Jose|\n",
      "|         4|Santa Clara at Al...|37.333988|-121.894902|       11|     San Jose|    8/6/2013|         null|\n",
      "|         5|    Adobe on Almaden|37.331415|  -121.8932|       19|     San Jose|    8/5/2013|         null|\n",
      "|        11|         MLK Library|37.335885| -121.88566|       19|     San Jose|    8/6/2013|         null|\n",
      "|        12|SJSU 4th at San C...|37.332808|-121.883891|       19|     San Jose|    8/7/2013|         null|\n",
      "|        14|Arena Green / SAP...|37.332692|-121.900084|       19|     San Jose|    8/5/2013|         null|\n",
      "|        28|Mountain View Cal...|37.394358|-122.076713|       23|Mountain View|   8/15/2013|Mountain View|\n",
      "|        29|San Antonio Caltr...| 37.40694|-122.106758|       23|Mountain View|   8/15/2013|Mountain View|\n",
      "|        32|Castro Street and...|37.385956|-122.083678|       11|Mountain View|  12/31/2013|         null|\n",
      "|        34|Palo Alto Caltrai...|37.443988|-122.164759|       23|    Palo Alto|   8/14/2013|    Palo Alto|\n",
      "|        35|University and Em...|37.444521|-122.163093|       11|    Palo Alto|   8/15/2013|         null|\n",
      "|        37|Cowper at University|37.448598|-122.159504|       11|    Palo Alto|   8/14/2013|         null|\n",
      "|        47|     Post at Kearney|37.788975|-122.403452|       19|San Francisco|   8/19/2013|         null|\n",
      "|        49|     Spear at Folsom|37.790302|-122.390637|       19|San Francisco|   8/20/2013|         null|\n",
      "|        50|Harry Bridges Pla...|37.795392|-122.394203|       23|San Francisco|   8/20/2013|San Francisco|\n",
      "|        51|Embarcadero at Fo...|37.791464|-122.391034|       19|San Francisco|   8/20/2013|         null|\n",
      "|        39|  Powell Street BART|37.783871|-122.408433|       19|San Francisco|   8/25/2013|         null|\n",
      "|        55|Temporary Transba...|37.789756|-122.394643|       23|San Francisco|   8/20/2013|San Francisco|\n",
      "|        56|     Beale at Market|37.792251|-122.397086|       19|San Francisco|   8/20/2013|         null|\n",
      "|        58|San Francisco Cit...| 37.77865|-122.418235|       19|San Francisco|   8/21/2013|         null|\n",
      "+----------+--------------------+---------+-----------+---------+-------------+------------+-------------+\n",
      "only showing top 20 rows\n",
      "\n"
     ]
    }
   ],
   "source": []
  },
  {
   "cell_type": "markdown",
   "metadata": {},
   "source": [
    "AND"
   ]
  },
  {
   "cell_type": "code",
   "execution_count": 53,
   "metadata": {},
   "outputs": [
    {
     "name": "stdout",
     "output_type": "stream",
     "text": [
      "+----------+--------------------+---------+-----------+---------+-------------+------------+\n",
      "|station_id|                name|      lat|       long|dockcount|     landmark|installation|\n",
      "+----------+--------------------+---------+-----------+---------+-------------+------------+\n",
      "|         2|San Jose Diridon ...|37.329732|-121.901782|       27|     San Jose|    8/6/2013|\n",
      "|         4|Santa Clara at Al...|37.333988|-121.894902|       11|     San Jose|    8/6/2013|\n",
      "|         5|    Adobe on Almaden|37.331415|  -121.8932|       19|     San Jose|    8/5/2013|\n",
      "|        11|         MLK Library|37.335885| -121.88566|       19|     San Jose|    8/6/2013|\n",
      "|        12|SJSU 4th at San C...|37.332808|-121.883891|       19|     San Jose|    8/7/2013|\n",
      "|        14|Arena Green / SAP...|37.332692|-121.900084|       19|     San Jose|    8/5/2013|\n",
      "|        28|Mountain View Cal...|37.394358|-122.076713|       23|Mountain View|   8/15/2013|\n",
      "|        29|San Antonio Caltr...| 37.40694|-122.106758|       23|Mountain View|   8/15/2013|\n",
      "|        32|Castro Street and...|37.385956|-122.083678|       11|Mountain View|  12/31/2013|\n",
      "|        34|Palo Alto Caltrai...|37.443988|-122.164759|       23|    Palo Alto|   8/14/2013|\n",
      "|        35|University and Em...|37.444521|-122.163093|       11|    Palo Alto|   8/15/2013|\n",
      "|        37|Cowper at University|37.448598|-122.159504|       11|    Palo Alto|   8/14/2013|\n",
      "|        47|     Post at Kearney|37.788975|-122.403452|       19|San Francisco|   8/19/2013|\n",
      "|        49|     Spear at Folsom|37.790302|-122.390637|       19|San Francisco|   8/20/2013|\n",
      "|        50|Harry Bridges Pla...|37.795392|-122.394203|       23|San Francisco|   8/20/2013|\n",
      "|        51|Embarcadero at Fo...|37.791464|-122.391034|       19|San Francisco|   8/20/2013|\n",
      "|        39|  Powell Street BART|37.783871|-122.408433|       19|San Francisco|   8/25/2013|\n",
      "|        55|Temporary Transba...|37.789756|-122.394643|       23|San Francisco|   8/20/2013|\n",
      "|        56|     Beale at Market|37.792251|-122.397086|       19|San Francisco|   8/20/2013|\n",
      "|        58|San Francisco Cit...| 37.77865|-122.418235|       19|San Francisco|   8/21/2013|\n",
      "+----------+--------------------+---------+-----------+---------+-------------+------------+\n",
      "only showing top 20 rows\n",
      "\n"
     ]
    }
   ],
   "source": []
  },
  {
   "cell_type": "code",
   "execution_count": 54,
   "metadata": {},
   "outputs": [
    {
     "name": "stdout",
     "output_type": "stream",
     "text": [
      "+----------+--------------------+---------+-----------+---------+-------------+------------+\n",
      "|station_id|                name|      lat|       long|dockcount|     landmark|installation|\n",
      "+----------+--------------------+---------+-----------+---------+-------------+------------+\n",
      "|         2|San Jose Diridon ...|37.329732|-121.901782|       27|     San Jose|    8/6/2013|\n",
      "|         3|San Jose Civic Ce...|37.330698|-121.888979|       15|     San Jose|    8/5/2013|\n",
      "|         4|Santa Clara at Al...|37.333988|-121.894902|       11|     San Jose|    8/6/2013|\n",
      "|         5|    Adobe on Almaden|37.331415|  -121.8932|       19|     San Jose|    8/5/2013|\n",
      "|         6|    San Pedro Square|37.336721|-121.894074|       15|     San Jose|    8/7/2013|\n",
      "|         7|Paseo de San Antonio|37.333798|-121.886943|       15|     San Jose|    8/7/2013|\n",
      "|         8| San Salvador at 1st|37.330165|-121.885831|       15|     San Jose|    8/5/2013|\n",
      "|         9|           Japantown|37.348742|-121.894715|       15|     San Jose|    8/5/2013|\n",
      "|        10|  San Jose City Hall|37.337391|-121.886995|       15|     San Jose|    8/6/2013|\n",
      "|        11|         MLK Library|37.335885| -121.88566|       19|     San Jose|    8/6/2013|\n",
      "|        12|SJSU 4th at San C...|37.332808|-121.883891|       19|     San Jose|    8/7/2013|\n",
      "|        13|       St James Park|37.339301|-121.889937|       15|     San Jose|    8/6/2013|\n",
      "|        14|Arena Green / SAP...|37.332692|-121.900084|       19|     San Jose|    8/5/2013|\n",
      "|        16|SJSU - San Salvad...|37.333955|-121.877349|       15|     San Jose|    8/7/2013|\n",
      "|        22|Redwood City Calt...|37.486078|-122.232089|       25| Redwood City|   8/15/2013|\n",
      "|        27|Mountain View Cit...|37.389218|-122.081896|       15|Mountain View|   8/16/2013|\n",
      "|        28|Mountain View Cal...|37.394358|-122.076713|       23|Mountain View|   8/15/2013|\n",
      "|        29|San Antonio Caltr...| 37.40694|-122.106758|       23|Mountain View|   8/15/2013|\n",
      "|        30|Evelyn Park and Ride|37.390277|-122.066553|       15|Mountain View|   8/16/2013|\n",
      "|        31|San Antonio Shopp...|37.400443|-122.108338|       15|Mountain View|  12/31/2013|\n",
      "+----------+--------------------+---------+-----------+---------+-------------+------------+\n",
      "only showing top 20 rows\n",
      "\n"
     ]
    }
   ],
   "source": []
  },
  {
   "cell_type": "markdown",
   "metadata": {},
   "source": [
    "Sample"
   ]
  },
  {
   "cell_type": "code",
   "execution_count": 55,
   "metadata": {},
   "outputs": [
    {
     "data": {
      "text/plain": [
       "seed: Int = 5\n",
       "withReplacement: Boolean = false\n",
       "fraction: Double = 0.5\n",
       "df_sample: org.apache.spark.sql.Dataset[org.apache.spark.sql.Row] = [station_id: int, name: string ... 5 more fields]\n"
      ]
     },
     "execution_count": 55,
     "metadata": {},
     "output_type": "execute_result"
    }
   ],
   "source": []
  },
  {
   "cell_type": "code",
   "execution_count": 56,
   "metadata": {},
   "outputs": [
    {
     "name": "stdout",
     "output_type": "stream",
     "text": [
      "+----------+--------------------+---------+-----------+---------+-------------+------------+\n",
      "|station_id|                name|      lat|       long|dockcount|     landmark|installation|\n",
      "+----------+--------------------+---------+-----------+---------+-------------+------------+\n",
      "|         2|San Jose Diridon ...|37.329732|-121.901782|       27|     San Jose|    8/6/2013|\n",
      "|         3|San Jose Civic Ce...|37.330698|-121.888979|       15|     San Jose|    8/5/2013|\n",
      "|         6|    San Pedro Square|37.336721|-121.894074|       15|     San Jose|    8/7/2013|\n",
      "|         7|Paseo de San Antonio|37.333798|-121.886943|       15|     San Jose|    8/7/2013|\n",
      "|         8| San Salvador at 1st|37.330165|-121.885831|       15|     San Jose|    8/5/2013|\n",
      "|        10|  San Jose City Hall|37.337391|-121.886995|       15|     San Jose|    8/6/2013|\n",
      "|        11|         MLK Library|37.335885| -121.88566|       19|     San Jose|    8/6/2013|\n",
      "|        13|       St James Park|37.339301|-121.889937|       15|     San Jose|    8/6/2013|\n",
      "|        14|Arena Green / SAP...|37.332692|-121.900084|       19|     San Jose|    8/5/2013|\n",
      "|        22|Redwood City Calt...|37.486078|-122.232089|       25| Redwood City|   8/15/2013|\n",
      "|        23|San Mateo County ...|37.487616|-122.229951|       15| Redwood City|   8/15/2013|\n",
      "|        26|Redwood City Medi...|37.487682|-122.223492|       15| Redwood City|   8/12/2013|\n",
      "|        27|Mountain View Cit...|37.389218|-122.081896|       15|Mountain View|   8/16/2013|\n",
      "|        28|Mountain View Cal...|37.394358|-122.076713|       23|Mountain View|   8/15/2013|\n",
      "|        29|San Antonio Caltr...| 37.40694|-122.106758|       23|Mountain View|   8/15/2013|\n",
      "|        30|Evelyn Park and Ride|37.390277|-122.066553|       15|Mountain View|   8/16/2013|\n",
      "|        32|Castro Street and...|37.385956|-122.083678|       11|Mountain View|  12/31/2013|\n",
      "|        35|University and Em...|37.444521|-122.163093|       11|    Palo Alto|   8/15/2013|\n",
      "|        36|California Ave Ca...|37.429082|-122.142805|       15|    Palo Alto|   8/14/2013|\n",
      "|        41|     Clay at Battery|37.795001| -122.39997|       15|San Francisco|   8/19/2013|\n",
      "+----------+--------------------+---------+-----------+---------+-------------+------------+\n",
      "only showing top 20 rows\n",
      "\n"
     ]
    }
   ],
   "source": []
  },
  {
   "cell_type": "markdown",
   "metadata": {},
   "source": [
    "Random splits"
   ]
  },
  {
   "cell_type": "code",
   "execution_count": 57,
   "metadata": {},
   "outputs": [
    {
     "name": "stdout",
     "output_type": "stream",
     "text": [
      "13\n"
     ]
    },
    {
     "data": {
      "text/plain": [
       "seed: Int = 42\n",
       "testAndTrain: Array[org.apache.spark.sql.Dataset[org.apache.spark.sql.Row]] = Array([station_id: int, name: string ... 5 more fields], [station_id: int, name: string ... 5 more fields])\n"
      ]
     },
     "execution_count": 57,
     "metadata": {},
     "output_type": "execute_result"
    }
   ],
   "source": []
  },
  {
   "cell_type": "code",
   "execution_count": 58,
   "metadata": {},
   "outputs": [
    {
     "name": "stdout",
     "output_type": "stream",
     "text": [
      "57\n"
     ]
    }
   ],
   "source": []
  },
  {
   "cell_type": "code",
   "execution_count": 59,
   "metadata": {},
   "outputs": [
    {
     "data": {
      "text/plain": [
       "res51: Double = 17.5\n"
      ]
     },
     "execution_count": 59,
     "metadata": {},
     "output_type": "execute_result"
    }
   ],
   "source": []
  },
  {
   "cell_type": "code",
   "execution_count": 60,
   "metadata": {},
   "outputs": [],
   "source": [
    "// https://docs.databricks.com/spark/latest/dataframes-datasets/introduction-to-dataframes-scala.html"
   ]
  },
  {
   "cell_type": "markdown",
   "metadata": {},
   "source": [
    "Sorting rows "
   ]
  },
  {
   "cell_type": "code",
   "execution_count": 61,
   "metadata": {},
   "outputs": [
    {
     "name": "stdout",
     "output_type": "stream",
     "text": [
      "+----------+-----------------+---------+-----------+---------+-------------+------------+\n",
      "|station_id|             name|      lat|       long|dockcount|     landmark|installation|\n",
      "+----------+-----------------+---------+-----------+---------+-------------+------------+\n",
      "|        61|  2nd at Townsend|37.780526|-122.390288|       27|San Francisco|   8/22/2013|\n",
      "|        77|Market at Sansome|37.789625|-122.400811|       27|San Francisco|   8/25/2013|\n",
      "+----------+-----------------+---------+-----------+---------+-------------+------------+\n",
      "only showing top 2 rows\n",
      "\n"
     ]
    }
   ],
   "source": []
  },
  {
   "cell_type": "code",
   "execution_count": 62,
   "metadata": {},
   "outputs": [
    {
     "name": "stdout",
     "output_type": "stream",
     "text": [
      "+----------+--------------------+---------+-----------+---------+-------------+------------+\n",
      "|station_id|                name|      lat|       long|dockcount|     landmark|installation|\n",
      "+----------+--------------------+---------+-----------+---------+-------------+------------+\n",
      "|         2|San Jose Diridon ...|37.329732|-121.901782|       27|     San Jose|    8/6/2013|\n",
      "|        61|     2nd at Townsend|37.780526|-122.390288|       27|San Francisco|   8/22/2013|\n",
      "|        67|      Market at 10th|37.776619|-122.417385|       27|San Francisco|   8/23/2013|\n",
      "+----------+--------------------+---------+-----------+---------+-------------+------------+\n",
      "only showing top 3 rows\n",
      "\n"
     ]
    }
   ],
   "source": []
  },
  {
   "cell_type": "code",
   "execution_count": 63,
   "metadata": {},
   "outputs": [
    {
     "name": "stdout",
     "output_type": "stream",
     "text": [
      "+----------+-----------------+---------+-----------+---------+-------------+------------+\n",
      "|station_id|             name|      lat|       long|dockcount|     landmark|installation|\n",
      "+----------+-----------------+---------+-----------+---------+-------------+------------+\n",
      "|        77|Market at Sansome|37.789625|-122.400811|       27|San Francisco|   8/25/2013|\n",
      "|        67|   Market at 10th|37.776619|-122.417385|       27|San Francisco|   8/23/2013|\n",
      "|        61|  2nd at Townsend|37.780526|-122.390288|       27|San Francisco|   8/22/2013|\n",
      "+----------+-----------------+---------+-----------+---------+-------------+------------+\n",
      "only showing top 3 rows\n",
      "\n"
     ]
    }
   ],
   "source": []
  },
  {
   "cell_type": "code",
   "execution_count": 64,
   "metadata": {},
   "outputs": [
    {
     "name": "stdout",
     "output_type": "stream",
     "text": [
      "+----------+--------------------+---------+-----------+---------+-------------+------------+\n",
      "|station_id|                name|      lat|       long|dockcount|     landmark|installation|\n",
      "+----------+--------------------+---------+-----------+---------+-------------+------------+\n",
      "|         4|Santa Clara at Al...|37.333988|-121.894902|       11|     San Jose|    8/6/2013|\n",
      "|        32|Castro Street and...|37.385956|-122.083678|       11|Mountain View|  12/31/2013|\n",
      "|        35|University and Em...|37.444521|-122.163093|       11|    Palo Alto|   8/15/2013|\n",
      "+----------+--------------------+---------+-----------+---------+-------------+------------+\n",
      "only showing top 3 rows\n",
      "\n"
     ]
    }
   ],
   "source": []
  },
  {
   "cell_type": "code",
   "execution_count": 65,
   "metadata": {},
   "outputs": [
    {
     "data": {
      "text/plain": [
       "res57: Int = 1\n"
      ]
     },
     "execution_count": 65,
     "metadata": {},
     "output_type": "execute_result"
    }
   ],
   "source": []
  },
  {
   "cell_type": "code",
   "execution_count": 66,
   "metadata": {},
   "outputs": [
    {
     "data": {
      "text/plain": [
       "rdd_repart: org.apache.spark.rdd.RDD[org.apache.spark.sql.Row] = MapPartitionsRDD[244] at repartition at <console>:40\n"
      ]
     },
     "execution_count": 66,
     "metadata": {},
     "output_type": "execute_result"
    }
   ],
   "source": []
  },
  {
   "cell_type": "code",
   "execution_count": 67,
   "metadata": {},
   "outputs": [
    {
     "data": {
      "text/plain": [
       "res58: Int = 4\n"
      ]
     },
     "execution_count": 67,
     "metadata": {},
     "output_type": "execute_result"
    }
   ],
   "source": []
  },
  {
   "cell_type": "code",
   "execution_count": 68,
   "metadata": {},
   "outputs": [
    {
     "data": {
      "text/plain": [
       "res59: org.apache.spark.rdd.RDD[org.apache.spark.sql.Row] = MapPartitionsRDD[244] at repartition at <console>:40\n"
      ]
     },
     "execution_count": 68,
     "metadata": {},
     "output_type": "execute_result"
    }
   ],
   "source": []
  },
  {
   "cell_type": "code",
   "execution_count": 69,
   "metadata": {},
   "outputs": [
    {
     "ename": "<console>",
     "evalue": " error: incomplete input",
     "output_type": "error",
     "traceback": [
      "<console>: error: incomplete input"
     ]
    }
   ],
   "source": []
  },
  {
   "cell_type": "code",
   "execution_count": null,
   "metadata": {},
   "outputs": [],
   "source": []
  }
 ],
 "metadata": {
  "kernelspec": {
   "display_name": "spylon-kernel",
   "language": "scala",
   "name": "spylon-kernel"
  },
  "language_info": {
   "codemirror_mode": "text/x-scala",
   "file_extension": ".scala",
   "help_links": [
    {
     "text": "MetaKernel Magics",
     "url": "https://metakernel.readthedocs.io/en/latest/source/README.html"
    }
   ],
   "mimetype": "text/x-scala",
   "name": "scala",
   "pygments_lexer": "scala",
   "version": "0.4.1"
  }
 },
 "nbformat": 4,
 "nbformat_minor": 4
}
