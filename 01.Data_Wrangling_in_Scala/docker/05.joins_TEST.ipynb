{
 "cells": [
  {
   "cell_type": "markdown",
   "metadata": {},
   "source": [
    "# Joins \n",
    "\n",
    "Joins an essential part of nearly all Spark workloads. Here is how to use them (the basic internals)."
   ]
  },
  {
   "cell_type": "code",
   "execution_count": 1,
   "metadata": {},
   "outputs": [
    {
     "data": {
      "text/plain": [
       "Intitializing Scala interpreter ..."
      ]
     },
     "metadata": {},
     "output_type": "display_data"
    },
    {
     "data": {
      "text/plain": [
       "Spark Web UI available at http://07ff17ebfed3:4040\n",
       "SparkContext available as 'sc' (version = 3.0.0, master = local[*], app id = local-1597088989115)\n",
       "SparkSession available as 'spark'\n"
      ]
     },
     "metadata": {},
     "output_type": "display_data"
    },
    {
     "data": {
      "text/plain": [
       "import org.apache.spark.sql.SparkSession\n",
       "spark: org.apache.spark.sql.SparkSession = org.apache.spark.sql.SparkSession@164c182f\n"
      ]
     },
     "execution_count": 1,
     "metadata": {},
     "output_type": "execute_result"
    }
   ],
   "source": []
  },
  {
   "cell_type": "code",
   "execution_count": 2,
   "metadata": {},
   "outputs": [
    {
     "name": "stdout",
     "output_type": "stream",
     "text": [
      "+---------+----------------+----------------+---------------+\n",
      "|id_person|            name|graduate_program|   spark_status|\n",
      "+---------+----------------+----------------+---------------+\n",
      "|        0|   Bill Chambers|               0|          [100]|\n",
      "|        1|   Matei Zaharia|               1|[500, 250, 100]|\n",
      "|        2|Michael Armbrust|               1|     [250, 100]|\n",
      "+---------+----------------+----------------+---------------+\n",
      "\n",
      "+----------+-------+--------------------+-----------+\n",
      "|id_program| degree|          department|     school|\n",
      "+----------+-------+--------------------+-----------+\n",
      "|         0|Masters|School of Informa...|UC Berkeley|\n",
      "|         2|Masters|                EECS|UC Berkeley|\n",
      "|         1|  Ph.D.|                EECS|UC Berkeley|\n",
      "+----------+-------+--------------------+-----------+\n",
      "\n",
      "+---+--------------+\n",
      "| id|        status|\n",
      "+---+--------------+\n",
      "|500|Vice President|\n",
      "|250|    PMC Member|\n",
      "|100|   Contributor|\n",
      "+---+--------------+\n",
      "\n"
     ]
    },
    {
     "data": {
      "text/plain": [
       "person: org.apache.spark.sql.DataFrame = [id_person: int, name: string ... 2 more fields]\n",
       "graduateProgram: org.apache.spark.sql.DataFrame = [id_program: int, degree: string ... 2 more fields]\n",
       "sparkStatus: org.apache.spark.sql.DataFrame = [id: int, status: string]\n"
      ]
     },
     "execution_count": 2,
     "metadata": {},
     "output_type": "execute_result"
    }
   ],
   "source": []
  },
  {
   "cell_type": "markdown",
   "metadata": {},
   "source": [
    "# Inner joins"
   ]
  },
  {
   "cell_type": "code",
   "execution_count": 3,
   "metadata": {},
   "outputs": [
    {
     "name": "stdout",
     "output_type": "stream",
     "text": [
      "+---------+----------------+----------------+---------------+----------+-------+--------------------+-----------+\n",
      "|id_person|            name|graduate_program|   spark_status|id_program| degree|          department|     school|\n",
      "+---------+----------------+----------------+---------------+----------+-------+--------------------+-----------+\n",
      "|        0|   Bill Chambers|               0|          [100]|         0|Masters|School of Informa...|UC Berkeley|\n",
      "|        2|Michael Armbrust|               1|     [250, 100]|         1|  Ph.D.|                EECS|UC Berkeley|\n",
      "|        1|   Matei Zaharia|               1|[500, 250, 100]|         1|  Ph.D.|                EECS|UC Berkeley|\n",
      "+---------+----------------+----------------+---------------+----------+-------+--------------------+-----------+\n",
      "\n"
     ]
    },
    {
     "data": {
      "text/plain": [
       "joinExpr: org.apache.spark.sql.Column = (graduate_program = id_program)\n"
      ]
     },
     "execution_count": 3,
     "metadata": {},
     "output_type": "execute_result"
    }
   ],
   "source": []
  },
  {
   "cell_type": "markdown",
   "metadata": {},
   "source": [
    "# Outer Joins"
   ]
  },
  {
   "cell_type": "code",
   "execution_count": 6,
   "metadata": {},
   "outputs": [
    {
     "name": "stdout",
     "output_type": "stream",
     "text": [
      "+---------+----------------+----------------+---------------+----------+-------+--------------------+-----------+\n",
      "|id_person|            name|graduate_program|   spark_status|id_program| degree|          department|     school|\n",
      "+---------+----------------+----------------+---------------+----------+-------+--------------------+-----------+\n",
      "|        1|   Matei Zaharia|               1|[500, 250, 100]|         1|  Ph.D.|                EECS|UC Berkeley|\n",
      "|        2|Michael Armbrust|               1|     [250, 100]|         1|  Ph.D.|                EECS|UC Berkeley|\n",
      "|     null|            null|            null|           null|         2|Masters|                EECS|UC Berkeley|\n",
      "|        0|   Bill Chambers|               0|          [100]|         0|Masters|School of Informa...|UC Berkeley|\n",
      "+---------+----------------+----------------+---------------+----------+-------+--------------------+-----------+\n",
      "\n"
     ]
    }
   ],
   "source": []
  },
  {
   "cell_type": "markdown",
   "metadata": {},
   "source": [
    "# Left Outer Joins"
   ]
  },
  {
   "cell_type": "code",
   "execution_count": 9,
   "metadata": {},
   "outputs": [
    {
     "name": "stdout",
     "output_type": "stream",
     "text": [
      "+----------+-------+--------------------+-----------+---------+----------------+----------------+---------------+\n",
      "|id_program| degree|          department|     school|id_person|            name|graduate_program|   spark_status|\n",
      "+----------+-------+--------------------+-----------+---------+----------------+----------------+---------------+\n",
      "|         0|Masters|School of Informa...|UC Berkeley|        0|   Bill Chambers|               0|          [100]|\n",
      "|         2|Masters|                EECS|UC Berkeley|     null|            null|            null|           null|\n",
      "|         1|  Ph.D.|                EECS|UC Berkeley|        2|Michael Armbrust|               1|     [250, 100]|\n",
      "|         1|  Ph.D.|                EECS|UC Berkeley|        1|   Matei Zaharia|               1|[500, 250, 100]|\n",
      "+----------+-------+--------------------+-----------+---------+----------------+----------------+---------------+\n",
      "\n"
     ]
    }
   ],
   "source": []
  },
  {
   "cell_type": "markdown",
   "metadata": {},
   "source": [
    "# Right Outer Joins"
   ]
  },
  {
   "cell_type": "code",
   "execution_count": 11,
   "metadata": {},
   "outputs": [
    {
     "name": "stdout",
     "output_type": "stream",
     "text": [
      "+---------+----------------+----------------+---------------+----------+-------+--------------------+-----------+\n",
      "|id_person|            name|graduate_program|   spark_status|id_program| degree|          department|     school|\n",
      "+---------+----------------+----------------+---------------+----------+-------+--------------------+-----------+\n",
      "|        0|   Bill Chambers|               0|          [100]|         0|Masters|School of Informa...|UC Berkeley|\n",
      "|     null|            null|            null|           null|         2|Masters|                EECS|UC Berkeley|\n",
      "|        2|Michael Armbrust|               1|     [250, 100]|         1|  Ph.D.|                EECS|UC Berkeley|\n",
      "|        1|   Matei Zaharia|               1|[500, 250, 100]|         1|  Ph.D.|                EECS|UC Berkeley|\n",
      "+---------+----------------+----------------+---------------+----------+-------+--------------------+-----------+\n",
      "\n"
     ]
    }
   ],
   "source": []
  },
  {
   "cell_type": "markdown",
   "metadata": {},
   "source": [
    "# Left Semi Joins"
   ]
  },
  {
   "cell_type": "code",
   "execution_count": 32,
   "metadata": {},
   "outputs": [
    {
     "name": "stdout",
     "output_type": "stream",
     "text": [
      "+----------+-------+--------------------+-----------+\n",
      "|id_program| degree|          department|     school|\n",
      "+----------+-------+--------------------+-----------+\n",
      "|         0|Masters|School of Informa...|UC Berkeley|\n",
      "|         1|  Ph.D.|                EECS|UC Berkeley|\n",
      "+----------+-------+--------------------+-----------+\n",
      "\n"
     ]
    }
   ],
   "source": []
  },
  {
   "cell_type": "markdown",
   "metadata": {},
   "source": [
    "# Left Anti Joins"
   ]
  },
  {
   "cell_type": "markdown",
   "metadata": {},
   "source": [
    "The opposite of let semi joins"
   ]
  },
  {
   "cell_type": "code",
   "execution_count": 34,
   "metadata": {},
   "outputs": [
    {
     "name": "stdout",
     "output_type": "stream",
     "text": [
      "+----------+-------+----------+-----------+\n",
      "|id_program| degree|department|     school|\n",
      "+----------+-------+----------+-----------+\n",
      "|         2|Masters|      EECS|UC Berkeley|\n",
      "+----------+-------+----------+-----------+\n",
      "\n"
     ]
    }
   ],
   "source": []
  },
  {
   "cell_type": "markdown",
   "metadata": {},
   "source": [
    "# Natural Joins\n",
    "\n",
    "Natural joints make implicit guesses at the columns on which you would like to join. Implicit are always dangerous !"
   ]
  },
  {
   "cell_type": "code",
   "execution_count": 36,
   "metadata": {},
   "outputs": [
    {
     "name": "stdout",
     "output_type": "stream",
     "text": [
      "+----------+-------+--------------------+-----------+---------+----------------+----------------+---------------+\n",
      "|id_program| degree|          department|     school|id_person|            name|graduate_program|   spark_status|\n",
      "+----------+-------+--------------------+-----------+---------+----------------+----------------+---------------+\n",
      "|         0|Masters|School of Informa...|UC Berkeley|        0|   Bill Chambers|               0|          [100]|\n",
      "|         0|Masters|School of Informa...|UC Berkeley|        1|   Matei Zaharia|               1|[500, 250, 100]|\n",
      "|         0|Masters|School of Informa...|UC Berkeley|        2|Michael Armbrust|               1|     [250, 100]|\n",
      "|         2|Masters|                EECS|UC Berkeley|        0|   Bill Chambers|               0|          [100]|\n",
      "|         2|Masters|                EECS|UC Berkeley|        1|   Matei Zaharia|               1|[500, 250, 100]|\n",
      "|         2|Masters|                EECS|UC Berkeley|        2|Michael Armbrust|               1|     [250, 100]|\n",
      "|         1|  Ph.D.|                EECS|UC Berkeley|        0|   Bill Chambers|               0|          [100]|\n",
      "|         1|  Ph.D.|                EECS|UC Berkeley|        1|   Matei Zaharia|               1|[500, 250, 100]|\n",
      "|         1|  Ph.D.|                EECS|UC Berkeley|        2|Michael Armbrust|               1|     [250, 100]|\n",
      "+----------+-------+--------------------+-----------+---------+----------------+----------------+---------------+\n",
      "\n"
     ]
    }
   ],
   "source": []
  },
  {
   "cell_type": "markdown",
   "metadata": {},
   "source": [
    "# Cross (Cartesian) Joins "
   ]
  },
  {
   "cell_type": "markdown",
   "metadata": {},
   "source": [
    "They are like inner joins taht do not specify a predicate. Cross joins will join every single row in the left DF to every single row in the right DF. If you've 1,000 rows in each DF, it'll result in 1,000 x 1,000 rows ! So you've to be absolutely sure this is what you want... and you've to explicitly specify it :"
   ]
  },
  {
   "cell_type": "code",
   "execution_count": 17,
   "metadata": {},
   "outputs": [
    {
     "name": "stdout",
     "output_type": "stream",
     "text": [
      "+----------+-------+--------------------+-----------+---------+----------------+----------------+---------------+\n",
      "|id_program| degree|          department|     school|id_person|            name|graduate_program|   spark_status|\n",
      "+----------+-------+--------------------+-----------+---------+----------------+----------------+---------------+\n",
      "|         0|Masters|School of Informa...|UC Berkeley|        0|   Bill Chambers|               0|          [100]|\n",
      "|         1|  Ph.D.|                EECS|UC Berkeley|        2|Michael Armbrust|               1|     [250, 100]|\n",
      "|         1|  Ph.D.|                EECS|UC Berkeley|        1|   Matei Zaharia|               1|[500, 250, 100]|\n",
      "+----------+-------+--------------------+-----------+---------+----------------+----------------+---------------+\n",
      "\n"
     ]
    }
   ],
   "source": []
  },
  {
   "cell_type": "markdown",
   "metadata": {},
   "source": [
    "If you truly intend to have a cross-join, you can call that out explicitly:"
   ]
  },
  {
   "cell_type": "code",
   "execution_count": 39,
   "metadata": {},
   "outputs": [
    {
     "name": "stdout",
     "output_type": "stream",
     "text": [
      "+----------+-------+--------------------+-----------+---------+----------------+----------------+---------------+\n",
      "|id_program| degree|          department|     school|id_person|            name|graduate_program|   spark_status|\n",
      "+----------+-------+--------------------+-----------+---------+----------------+----------------+---------------+\n",
      "|         0|Masters|School of Informa...|UC Berkeley|        0|   Bill Chambers|               0|          [100]|\n",
      "|         0|Masters|School of Informa...|UC Berkeley|        1|   Matei Zaharia|               1|[500, 250, 100]|\n",
      "|         0|Masters|School of Informa...|UC Berkeley|        2|Michael Armbrust|               1|     [250, 100]|\n",
      "|         2|Masters|                EECS|UC Berkeley|        0|   Bill Chambers|               0|          [100]|\n",
      "|         2|Masters|                EECS|UC Berkeley|        1|   Matei Zaharia|               1|[500, 250, 100]|\n",
      "|         2|Masters|                EECS|UC Berkeley|        2|Michael Armbrust|               1|     [250, 100]|\n",
      "|         1|  Ph.D.|                EECS|UC Berkeley|        0|   Bill Chambers|               0|          [100]|\n",
      "|         1|  Ph.D.|                EECS|UC Berkeley|        1|   Matei Zaharia|               1|[500, 250, 100]|\n",
      "|         1|  Ph.D.|                EECS|UC Berkeley|        2|Michael Armbrust|               1|     [250, 100]|\n",
      "+----------+-------+--------------------+-----------+---------+----------------+----------------+---------------+\n",
      "\n"
     ]
    }
   ],
   "source": []
  }
 ],
 "metadata": {
  "kernelspec": {
   "display_name": "spylon-kernel",
   "language": "scala",
   "name": "spylon-kernel"
  },
  "language_info": {
   "codemirror_mode": "text/x-scala",
   "file_extension": ".scala",
   "help_links": [
    {
     "text": "MetaKernel Magics",
     "url": "https://metakernel.readthedocs.io/en/latest/source/README.html"
    }
   ],
   "mimetype": "text/x-scala",
   "name": "scala",
   "pygments_lexer": "scala",
   "version": "0.4.1"
  }
 },
 "nbformat": 4,
 "nbformat_minor": 4
}
