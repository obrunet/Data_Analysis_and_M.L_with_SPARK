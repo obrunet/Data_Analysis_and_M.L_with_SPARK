{
 "cells": [
  {
   "cell_type": "code",
   "execution_count": 4,
   "id": "alike-industry",
   "metadata": {},
   "outputs": [
    {
     "name": "stdout",
     "output_type": "stream",
     "text": [
      "Python 3.8.8\r\n"
     ]
    }
   ],
   "source": [
    "!python3 --version"
   ]
  },
  {
   "cell_type": "code",
   "execution_count": 5,
   "id": "earlier-brunei",
   "metadata": {},
   "outputs": [
    {
     "name": "stdout",
     "output_type": "stream",
     "text": [
      "Collecting koalas\n",
      "  Downloading koalas-1.6.0-py3-none-any.whl (668 kB)\n",
      "\u001b[K     |████████████████████████████████| 668 kB 9.8 MB/s eta 0:00:01\n",
      "\u001b[?25hRequirement already satisfied: numpy>=1.14 in /opt/conda/lib/python3.8/site-packages (from koalas) (1.20.1)\n",
      "Collecting pandas<1.2.0,>=0.23.2\n",
      "  Downloading pandas-1.1.5-cp38-cp38-manylinux1_x86_64.whl (9.3 MB)\n",
      "\u001b[K     |████████████████████████████████| 9.3 MB 8.9 MB/s eta 0:00:01\n",
      "\u001b[?25hRequirement already satisfied: pyarrow>=0.10 in /opt/conda/lib/python3.8/site-packages (from koalas) (3.0.0)\n",
      "Collecting matplotlib<3.3.0,>=3.0.0\n",
      "  Downloading matplotlib-3.2.2-cp38-cp38-manylinux1_x86_64.whl (12.4 MB)\n",
      "\u001b[K     |████████████████████████████████| 12.4 MB 29.4 MB/s eta 0:00:01\n",
      "\u001b[?25hRequirement already satisfied: cycler>=0.10 in /opt/conda/lib/python3.8/site-packages (from matplotlib<3.3.0,>=3.0.0->koalas) (0.10.0)\n",
      "Requirement already satisfied: pyparsing!=2.0.4,!=2.1.2,!=2.1.6,>=2.0.1 in /opt/conda/lib/python3.8/site-packages (from matplotlib<3.3.0,>=3.0.0->koalas) (2.4.7)\n",
      "Requirement already satisfied: kiwisolver>=1.0.1 in /opt/conda/lib/python3.8/site-packages (from matplotlib<3.3.0,>=3.0.0->koalas) (1.3.1)\n",
      "Requirement already satisfied: python-dateutil>=2.1 in /opt/conda/lib/python3.8/site-packages (from matplotlib<3.3.0,>=3.0.0->koalas) (2.8.1)\n",
      "Requirement already satisfied: six in /opt/conda/lib/python3.8/site-packages (from cycler>=0.10->matplotlib<3.3.0,>=3.0.0->koalas) (1.15.0)\n",
      "Requirement already satisfied: pytz>=2017.2 in /opt/conda/lib/python3.8/site-packages (from pandas<1.2.0,>=0.23.2->koalas) (2021.1)\n",
      "Installing collected packages: pandas, matplotlib, koalas\n",
      "  Attempting uninstall: pandas\n",
      "    Found existing installation: pandas 1.2.2\n",
      "    Uninstalling pandas-1.2.2:\n",
      "      Successfully uninstalled pandas-1.2.2\n",
      "  Attempting uninstall: matplotlib\n",
      "    Found existing installation: matplotlib 3.3.4\n",
      "    Uninstalling matplotlib-3.3.4:\n",
      "      Successfully uninstalled matplotlib-3.3.4\n",
      "Successfully installed koalas-1.6.0 matplotlib-3.2.2 pandas-1.1.5\n"
     ]
    }
   ],
   "source": [
    "!pip install koalas"
   ]
  },
  {
   "cell_type": "code",
   "execution_count": 6,
   "id": "fleet-marker",
   "metadata": {},
   "outputs": [
    {
     "name": "stdout",
     "output_type": "stream",
     "text": [
      "WARNING: An illegal reflective access operation has occurred\n",
      "WARNING: Illegal reflective access by org.apache.spark.unsafe.Platform (file:/usr/local/spark-3.0.2-bin-hadoop3.2/jars/spark-unsafe_2.12-3.0.2.jar) to constructor java.nio.DirectByteBuffer(long,int)\n",
      "WARNING: Please consider reporting this to the maintainers of org.apache.spark.unsafe.Platform\n",
      "WARNING: Use --illegal-access=warn to enable warnings of further illegal reflective access operations\n",
      "WARNING: All illegal access operations will be denied in a future release\n",
      "Welcome to\n",
      "      ____              __\n",
      "     / __/__  ___ _____/ /__\n",
      "    _\\ \\/ _ \\/ _ `/ __/  '_/\n",
      "   /___/ .__/\\_,_/_/ /_/\\_\\   version 3.0.2\n",
      "      /_/\n",
      "                        \n",
      "Using Scala version 2.12.10, OpenJDK 64-Bit Server VM, 11.0.10\n",
      "Branch HEAD\n",
      "Compiled by user centos on 2021-02-16T06:09:22Z\n",
      "Revision 648457905c4ea7d00e3d88048c63f360045f0714\n",
      "Url https://gitbox.apache.org/repos/asf/spark.git\n",
      "Type --help for more information.\n"
     ]
    }
   ],
   "source": [
    "!spark-submit --version"
   ]
  },
  {
   "cell_type": "code",
   "execution_count": 8,
   "id": "occupational-wells",
   "metadata": {},
   "outputs": [
    {
     "name": "stderr",
     "output_type": "stream",
     "text": [
      "WARNING:root:'PYARROW_IGNORE_TIMEZONE' environment variable was not set. It is required to set this environment variable to '1' in both driver and executor sides if you use pyarrow>=2.0.0. Koalas will set it for you but it does not work if there is a Spark context already launched.\n"
     ]
    }
   ],
   "source": [
    "import pandas as pd\n",
    "import numpy as np\n",
    "import databricks.koalas as ks\n",
    "from pyspark.sql import SparkSession"
   ]
  },
  {
   "cell_type": "code",
   "execution_count": 9,
   "id": "approved-binding",
   "metadata": {},
   "outputs": [
    {
     "data": {
      "text/plain": [
       "0    1.0\n",
       "1    3.0\n",
       "2    5.0\n",
       "3    NaN\n",
       "4    6.0\n",
       "5    8.0\n",
       "dtype: float64"
      ]
     },
     "execution_count": 9,
     "metadata": {},
     "output_type": "execute_result"
    }
   ],
   "source": [
    "s = ks.Series([1, 3, 5, np.nan, 6, 8])\n",
    "s"
   ]
  },
  {
   "cell_type": "code",
   "execution_count": 11,
   "id": "funky-arrest",
   "metadata": {},
   "outputs": [
    {
     "data": {
      "text/html": [
       "<div>\n",
       "<style scoped>\n",
       "    .dataframe tbody tr th:only-of-type {\n",
       "        vertical-align: middle;\n",
       "    }\n",
       "\n",
       "    .dataframe tbody tr th {\n",
       "        vertical-align: top;\n",
       "    }\n",
       "\n",
       "    .dataframe thead th {\n",
       "        text-align: right;\n",
       "    }\n",
       "</style>\n",
       "<table border=\"1\" class=\"dataframe\">\n",
       "  <thead>\n",
       "    <tr style=\"text-align: right;\">\n",
       "      <th></th>\n",
       "      <th>a</th>\n",
       "      <th>b</th>\n",
       "      <th>c</th>\n",
       "    </tr>\n",
       "  </thead>\n",
       "  <tbody>\n",
       "    <tr>\n",
       "      <th>10</th>\n",
       "      <td>1</td>\n",
       "      <td>100</td>\n",
       "      <td>one</td>\n",
       "    </tr>\n",
       "    <tr>\n",
       "      <th>20</th>\n",
       "      <td>2</td>\n",
       "      <td>200</td>\n",
       "      <td>two</td>\n",
       "    </tr>\n",
       "    <tr>\n",
       "      <th>30</th>\n",
       "      <td>3</td>\n",
       "      <td>300</td>\n",
       "      <td>three</td>\n",
       "    </tr>\n",
       "    <tr>\n",
       "      <th>40</th>\n",
       "      <td>4</td>\n",
       "      <td>400</td>\n",
       "      <td>four</td>\n",
       "    </tr>\n",
       "    <tr>\n",
       "      <th>50</th>\n",
       "      <td>5</td>\n",
       "      <td>500</td>\n",
       "      <td>five</td>\n",
       "    </tr>\n",
       "    <tr>\n",
       "      <th>60</th>\n",
       "      <td>6</td>\n",
       "      <td>600</td>\n",
       "      <td>six</td>\n",
       "    </tr>\n",
       "  </tbody>\n",
       "</table>\n",
       "</div>"
      ],
      "text/plain": [
       "    a    b      c\n",
       "10  1  100    one\n",
       "20  2  200    two\n",
       "30  3  300  three\n",
       "40  4  400   four\n",
       "50  5  500   five\n",
       "60  6  600    six"
      ]
     },
     "execution_count": 11,
     "metadata": {},
     "output_type": "execute_result"
    }
   ],
   "source": [
    "kdf = ks.DataFrame(\n",
    "    {'a': [1, 2, 3, 4, 5, 6],\n",
    "     'b': [100, 200, 300, 400, 500, 600],\n",
    "     'c': [\"one\", \"two\", \"three\", \"four\", \"five\", \"six\"]},\n",
    "    index=[10, 20, 30, 40, 50, 60])\n",
    "\n",
    "kdf"
   ]
  },
  {
   "cell_type": "code",
   "execution_count": 13,
   "id": "quantitative-effort",
   "metadata": {},
   "outputs": [
    {
     "data": {
      "text/plain": [
       "DatetimeIndex(['2013-01-01', '2013-01-02', '2013-01-03', '2013-01-04',\n",
       "               '2013-01-05', '2013-01-06'],\n",
       "              dtype='datetime64[ns]', freq='D')"
      ]
     },
     "execution_count": 13,
     "metadata": {},
     "output_type": "execute_result"
    }
   ],
   "source": [
    "dates = pd.date_range('20130101', periods=6)\n",
    "dates"
   ]
  },
  {
   "cell_type": "code",
   "execution_count": 14,
   "id": "manufactured-contributor",
   "metadata": {},
   "outputs": [
    {
     "data": {
      "text/html": [
       "<div>\n",
       "<style scoped>\n",
       "    .dataframe tbody tr th:only-of-type {\n",
       "        vertical-align: middle;\n",
       "    }\n",
       "\n",
       "    .dataframe tbody tr th {\n",
       "        vertical-align: top;\n",
       "    }\n",
       "\n",
       "    .dataframe thead th {\n",
       "        text-align: right;\n",
       "    }\n",
       "</style>\n",
       "<table border=\"1\" class=\"dataframe\">\n",
       "  <thead>\n",
       "    <tr style=\"text-align: right;\">\n",
       "      <th></th>\n",
       "      <th>A</th>\n",
       "      <th>B</th>\n",
       "      <th>C</th>\n",
       "      <th>D</th>\n",
       "    </tr>\n",
       "  </thead>\n",
       "  <tbody>\n",
       "    <tr>\n",
       "      <th>2013-01-01</th>\n",
       "      <td>-1.104309</td>\n",
       "      <td>-1.711289</td>\n",
       "      <td>0.598256</td>\n",
       "      <td>-0.279287</td>\n",
       "    </tr>\n",
       "    <tr>\n",
       "      <th>2013-01-02</th>\n",
       "      <td>0.048017</td>\n",
       "      <td>1.321582</td>\n",
       "      <td>-1.335090</td>\n",
       "      <td>1.167127</td>\n",
       "    </tr>\n",
       "    <tr>\n",
       "      <th>2013-01-03</th>\n",
       "      <td>1.428965</td>\n",
       "      <td>0.072645</td>\n",
       "      <td>0.481861</td>\n",
       "      <td>0.165028</td>\n",
       "    </tr>\n",
       "    <tr>\n",
       "      <th>2013-01-04</th>\n",
       "      <td>1.637699</td>\n",
       "      <td>0.417062</td>\n",
       "      <td>1.247827</td>\n",
       "      <td>0.777462</td>\n",
       "    </tr>\n",
       "    <tr>\n",
       "      <th>2013-01-05</th>\n",
       "      <td>1.159207</td>\n",
       "      <td>1.405034</td>\n",
       "      <td>-0.848400</td>\n",
       "      <td>-0.280479</td>\n",
       "    </tr>\n",
       "    <tr>\n",
       "      <th>2013-01-06</th>\n",
       "      <td>-0.639167</td>\n",
       "      <td>-0.138744</td>\n",
       "      <td>-0.406295</td>\n",
       "      <td>0.154749</td>\n",
       "    </tr>\n",
       "  </tbody>\n",
       "</table>\n",
       "</div>"
      ],
      "text/plain": [
       "                   A         B         C         D\n",
       "2013-01-01 -1.104309 -1.711289  0.598256 -0.279287\n",
       "2013-01-02  0.048017  1.321582 -1.335090  1.167127\n",
       "2013-01-03  1.428965  0.072645  0.481861  0.165028\n",
       "2013-01-04  1.637699  0.417062  1.247827  0.777462\n",
       "2013-01-05  1.159207  1.405034 -0.848400 -0.280479\n",
       "2013-01-06 -0.639167 -0.138744 -0.406295  0.154749"
      ]
     },
     "execution_count": 14,
     "metadata": {},
     "output_type": "execute_result"
    }
   ],
   "source": [
    "pdf = pd.DataFrame(np.random.randn(6, 4), index=dates, columns=list('ABCD'))\n",
    "pdf"
   ]
  },
  {
   "cell_type": "code",
   "execution_count": 15,
   "id": "insured-softball",
   "metadata": {},
   "outputs": [
    {
     "data": {
      "text/plain": [
       "databricks.koalas.frame.DataFrame"
      ]
     },
     "execution_count": 15,
     "metadata": {},
     "output_type": "execute_result"
    }
   ],
   "source": [
    "kdf = ks.from_pandas(pdf)\n",
    "type(kdf)"
   ]
  },
  {
   "cell_type": "code",
   "execution_count": 16,
   "id": "fitted-mercy",
   "metadata": {},
   "outputs": [
    {
     "data": {
      "text/html": [
       "<div>\n",
       "<style scoped>\n",
       "    .dataframe tbody tr th:only-of-type {\n",
       "        vertical-align: middle;\n",
       "    }\n",
       "\n",
       "    .dataframe tbody tr th {\n",
       "        vertical-align: top;\n",
       "    }\n",
       "\n",
       "    .dataframe thead th {\n",
       "        text-align: right;\n",
       "    }\n",
       "</style>\n",
       "<table border=\"1\" class=\"dataframe\">\n",
       "  <thead>\n",
       "    <tr style=\"text-align: right;\">\n",
       "      <th></th>\n",
       "      <th>A</th>\n",
       "      <th>B</th>\n",
       "      <th>C</th>\n",
       "      <th>D</th>\n",
       "    </tr>\n",
       "  </thead>\n",
       "  <tbody>\n",
       "    <tr>\n",
       "      <th>2013-01-01</th>\n",
       "      <td>-1.104309</td>\n",
       "      <td>-1.711289</td>\n",
       "      <td>0.598256</td>\n",
       "      <td>-0.279287</td>\n",
       "    </tr>\n",
       "    <tr>\n",
       "      <th>2013-01-02</th>\n",
       "      <td>0.048017</td>\n",
       "      <td>1.321582</td>\n",
       "      <td>-1.335090</td>\n",
       "      <td>1.167127</td>\n",
       "    </tr>\n",
       "    <tr>\n",
       "      <th>2013-01-03</th>\n",
       "      <td>1.428965</td>\n",
       "      <td>0.072645</td>\n",
       "      <td>0.481861</td>\n",
       "      <td>0.165028</td>\n",
       "    </tr>\n",
       "    <tr>\n",
       "      <th>2013-01-04</th>\n",
       "      <td>1.637699</td>\n",
       "      <td>0.417062</td>\n",
       "      <td>1.247827</td>\n",
       "      <td>0.777462</td>\n",
       "    </tr>\n",
       "    <tr>\n",
       "      <th>2013-01-05</th>\n",
       "      <td>1.159207</td>\n",
       "      <td>1.405034</td>\n",
       "      <td>-0.848400</td>\n",
       "      <td>-0.280479</td>\n",
       "    </tr>\n",
       "    <tr>\n",
       "      <th>2013-01-06</th>\n",
       "      <td>-0.639167</td>\n",
       "      <td>-0.138744</td>\n",
       "      <td>-0.406295</td>\n",
       "      <td>0.154749</td>\n",
       "    </tr>\n",
       "  </tbody>\n",
       "</table>\n",
       "</div>"
      ],
      "text/plain": [
       "                   A         B         C         D\n",
       "2013-01-01 -1.104309 -1.711289  0.598256 -0.279287\n",
       "2013-01-02  0.048017  1.321582 -1.335090  1.167127\n",
       "2013-01-03  1.428965  0.072645  0.481861  0.165028\n",
       "2013-01-04  1.637699  0.417062  1.247827  0.777462\n",
       "2013-01-05  1.159207  1.405034 -0.848400 -0.280479\n",
       "2013-01-06 -0.639167 -0.138744 -0.406295  0.154749"
      ]
     },
     "execution_count": 16,
     "metadata": {},
     "output_type": "execute_result"
    }
   ],
   "source": [
    "kdf"
   ]
  },
  {
   "cell_type": "code",
   "execution_count": 17,
   "id": "virtual-dover",
   "metadata": {},
   "outputs": [],
   "source": [
    "spark = SparkSession.builder.getOrCreate()"
   ]
  },
  {
   "cell_type": "code",
   "execution_count": 18,
   "id": "northern-referral",
   "metadata": {},
   "outputs": [
    {
     "name": "stdout",
     "output_type": "stream",
     "text": [
      "+-------------------+--------------------+-------------------+--------------------+\n",
      "|                  A|                   B|                  C|                   D|\n",
      "+-------------------+--------------------+-------------------+--------------------+\n",
      "| -1.104309494723149| -1.7112888403044677| 0.5982560229201509|-0.27928743928904676|\n",
      "|0.04801742864860694|  1.3215823948138687|-1.3350898460507208|  1.1671268687059597|\n",
      "| 1.4289647857795278| 0.07264480719508562|0.48186082847274103| 0.16502790399438244|\n",
      "| 1.6376985642547388|  0.4170619631452462|  1.247827040119578|   0.777462020329855|\n",
      "| 1.1592068639778323|  1.4050344697039234|-0.8483998292707408|-0.28047868190814956|\n",
      "|-0.6391668202524056|-0.13874359633192337|-0.4062947970903579|  0.1547488968239605|\n",
      "+-------------------+--------------------+-------------------+--------------------+\n",
      "\n"
     ]
    }
   ],
   "source": [
    "sdf = spark.createDataFrame(pdf)\n",
    "sdf.show()"
   ]
  },
  {
   "cell_type": "code",
   "execution_count": 19,
   "id": "armed-chart",
   "metadata": {},
   "outputs": [
    {
     "data": {
      "text/html": [
       "<div>\n",
       "<style scoped>\n",
       "    .dataframe tbody tr th:only-of-type {\n",
       "        vertical-align: middle;\n",
       "    }\n",
       "\n",
       "    .dataframe tbody tr th {\n",
       "        vertical-align: top;\n",
       "    }\n",
       "\n",
       "    .dataframe thead th {\n",
       "        text-align: right;\n",
       "    }\n",
       "</style>\n",
       "<table border=\"1\" class=\"dataframe\">\n",
       "  <thead>\n",
       "    <tr style=\"text-align: right;\">\n",
       "      <th></th>\n",
       "      <th>A</th>\n",
       "      <th>B</th>\n",
       "      <th>C</th>\n",
       "      <th>D</th>\n",
       "    </tr>\n",
       "  </thead>\n",
       "  <tbody>\n",
       "    <tr>\n",
       "      <th>0</th>\n",
       "      <td>-1.104309</td>\n",
       "      <td>-1.711289</td>\n",
       "      <td>0.598256</td>\n",
       "      <td>-0.279287</td>\n",
       "    </tr>\n",
       "    <tr>\n",
       "      <th>1</th>\n",
       "      <td>0.048017</td>\n",
       "      <td>1.321582</td>\n",
       "      <td>-1.335090</td>\n",
       "      <td>1.167127</td>\n",
       "    </tr>\n",
       "    <tr>\n",
       "      <th>2</th>\n",
       "      <td>1.428965</td>\n",
       "      <td>0.072645</td>\n",
       "      <td>0.481861</td>\n",
       "      <td>0.165028</td>\n",
       "    </tr>\n",
       "    <tr>\n",
       "      <th>3</th>\n",
       "      <td>1.637699</td>\n",
       "      <td>0.417062</td>\n",
       "      <td>1.247827</td>\n",
       "      <td>0.777462</td>\n",
       "    </tr>\n",
       "    <tr>\n",
       "      <th>4</th>\n",
       "      <td>1.159207</td>\n",
       "      <td>1.405034</td>\n",
       "      <td>-0.848400</td>\n",
       "      <td>-0.280479</td>\n",
       "    </tr>\n",
       "    <tr>\n",
       "      <th>5</th>\n",
       "      <td>-0.639167</td>\n",
       "      <td>-0.138744</td>\n",
       "      <td>-0.406295</td>\n",
       "      <td>0.154749</td>\n",
       "    </tr>\n",
       "  </tbody>\n",
       "</table>\n",
       "</div>"
      ],
      "text/plain": [
       "          A         B         C         D\n",
       "0 -1.104309 -1.711289  0.598256 -0.279287\n",
       "1  0.048017  1.321582 -1.335090  1.167127\n",
       "2  1.428965  0.072645  0.481861  0.165028\n",
       "3  1.637699  0.417062  1.247827  0.777462\n",
       "4  1.159207  1.405034 -0.848400 -0.280479\n",
       "5 -0.639167 -0.138744 -0.406295  0.154749"
      ]
     },
     "execution_count": 19,
     "metadata": {},
     "output_type": "execute_result"
    }
   ],
   "source": [
    "kdf = sdf.to_koalas()\n",
    "kdf"
   ]
  },
  {
   "cell_type": "code",
   "execution_count": 20,
   "id": "small-tennessee",
   "metadata": {},
   "outputs": [
    {
     "data": {
      "text/plain": [
       "A    float64\n",
       "B    float64\n",
       "C    float64\n",
       "D    float64\n",
       "dtype: object"
      ]
     },
     "execution_count": 20,
     "metadata": {},
     "output_type": "execute_result"
    }
   ],
   "source": [
    "kdf.dtypes"
   ]
  },
  {
   "cell_type": "code",
   "execution_count": 21,
   "id": "impressed-repair",
   "metadata": {},
   "outputs": [
    {
     "data": {
      "text/html": [
       "<div>\n",
       "<style scoped>\n",
       "    .dataframe tbody tr th:only-of-type {\n",
       "        vertical-align: middle;\n",
       "    }\n",
       "\n",
       "    .dataframe tbody tr th {\n",
       "        vertical-align: top;\n",
       "    }\n",
       "\n",
       "    .dataframe thead th {\n",
       "        text-align: right;\n",
       "    }\n",
       "</style>\n",
       "<table border=\"1\" class=\"dataframe\">\n",
       "  <thead>\n",
       "    <tr style=\"text-align: right;\">\n",
       "      <th></th>\n",
       "      <th>A</th>\n",
       "      <th>B</th>\n",
       "      <th>C</th>\n",
       "      <th>D</th>\n",
       "    </tr>\n",
       "  </thead>\n",
       "  <tbody>\n",
       "    <tr>\n",
       "      <th>0</th>\n",
       "      <td>-1.104309</td>\n",
       "      <td>-1.711289</td>\n",
       "      <td>0.598256</td>\n",
       "      <td>-0.279287</td>\n",
       "    </tr>\n",
       "    <tr>\n",
       "      <th>1</th>\n",
       "      <td>0.048017</td>\n",
       "      <td>1.321582</td>\n",
       "      <td>-1.335090</td>\n",
       "      <td>1.167127</td>\n",
       "    </tr>\n",
       "    <tr>\n",
       "      <th>2</th>\n",
       "      <td>1.428965</td>\n",
       "      <td>0.072645</td>\n",
       "      <td>0.481861</td>\n",
       "      <td>0.165028</td>\n",
       "    </tr>\n",
       "    <tr>\n",
       "      <th>3</th>\n",
       "      <td>1.637699</td>\n",
       "      <td>0.417062</td>\n",
       "      <td>1.247827</td>\n",
       "      <td>0.777462</td>\n",
       "    </tr>\n",
       "    <tr>\n",
       "      <th>4</th>\n",
       "      <td>1.159207</td>\n",
       "      <td>1.405034</td>\n",
       "      <td>-0.848400</td>\n",
       "      <td>-0.280479</td>\n",
       "    </tr>\n",
       "  </tbody>\n",
       "</table>\n",
       "</div>"
      ],
      "text/plain": [
       "          A         B         C         D\n",
       "0 -1.104309 -1.711289  0.598256 -0.279287\n",
       "1  0.048017  1.321582 -1.335090  1.167127\n",
       "2  1.428965  0.072645  0.481861  0.165028\n",
       "3  1.637699  0.417062  1.247827  0.777462\n",
       "4  1.159207  1.405034 -0.848400 -0.280479"
      ]
     },
     "execution_count": 21,
     "metadata": {},
     "output_type": "execute_result"
    }
   ],
   "source": [
    "kdf.head()"
   ]
  },
  {
   "cell_type": "code",
   "execution_count": 22,
   "id": "iraqi-stamp",
   "metadata": {},
   "outputs": [
    {
     "data": {
      "text/plain": [
       "Int64Index([0, 1, 2, 3, 4, 5], dtype='int64')"
      ]
     },
     "execution_count": 22,
     "metadata": {},
     "output_type": "execute_result"
    }
   ],
   "source": [
    "kdf.index"
   ]
  },
  {
   "cell_type": "code",
   "execution_count": 23,
   "id": "residential-entry",
   "metadata": {},
   "outputs": [
    {
     "data": {
      "text/plain": [
       "Index(['A', 'B', 'C', 'D'], dtype='object')"
      ]
     },
     "execution_count": 23,
     "metadata": {},
     "output_type": "execute_result"
    }
   ],
   "source": [
    "kdf.columns"
   ]
  },
  {
   "cell_type": "code",
   "execution_count": 24,
   "id": "furnished-drove",
   "metadata": {},
   "outputs": [
    {
     "data": {
      "text/html": [
       "<div>\n",
       "<style scoped>\n",
       "    .dataframe tbody tr th:only-of-type {\n",
       "        vertical-align: middle;\n",
       "    }\n",
       "\n",
       "    .dataframe tbody tr th {\n",
       "        vertical-align: top;\n",
       "    }\n",
       "\n",
       "    .dataframe thead th {\n",
       "        text-align: right;\n",
       "    }\n",
       "</style>\n",
       "<table border=\"1\" class=\"dataframe\">\n",
       "  <thead>\n",
       "    <tr style=\"text-align: right;\">\n",
       "      <th></th>\n",
       "      <th>A</th>\n",
       "      <th>B</th>\n",
       "      <th>C</th>\n",
       "      <th>D</th>\n",
       "    </tr>\n",
       "  </thead>\n",
       "  <tbody>\n",
       "    <tr>\n",
       "      <th>count</th>\n",
       "      <td>6.000000</td>\n",
       "      <td>6.000000</td>\n",
       "      <td>6.000000</td>\n",
       "      <td>6.000000</td>\n",
       "    </tr>\n",
       "    <tr>\n",
       "      <th>mean</th>\n",
       "      <td>0.421735</td>\n",
       "      <td>0.227715</td>\n",
       "      <td>-0.043640</td>\n",
       "      <td>0.284100</td>\n",
       "    </tr>\n",
       "    <tr>\n",
       "      <th>std</th>\n",
       "      <td>1.151602</td>\n",
       "      <td>1.143377</td>\n",
       "      <td>0.980109</td>\n",
       "      <td>0.581413</td>\n",
       "    </tr>\n",
       "    <tr>\n",
       "      <th>min</th>\n",
       "      <td>-1.104309</td>\n",
       "      <td>-1.711289</td>\n",
       "      <td>-1.335090</td>\n",
       "      <td>-0.280479</td>\n",
       "    </tr>\n",
       "    <tr>\n",
       "      <th>25%</th>\n",
       "      <td>-0.639167</td>\n",
       "      <td>-0.138744</td>\n",
       "      <td>-0.848400</td>\n",
       "      <td>-0.279287</td>\n",
       "    </tr>\n",
       "    <tr>\n",
       "      <th>50%</th>\n",
       "      <td>0.048017</td>\n",
       "      <td>0.072645</td>\n",
       "      <td>-0.406295</td>\n",
       "      <td>0.154749</td>\n",
       "    </tr>\n",
       "    <tr>\n",
       "      <th>75%</th>\n",
       "      <td>1.428965</td>\n",
       "      <td>1.321582</td>\n",
       "      <td>0.598256</td>\n",
       "      <td>0.777462</td>\n",
       "    </tr>\n",
       "    <tr>\n",
       "      <th>max</th>\n",
       "      <td>1.637699</td>\n",
       "      <td>1.405034</td>\n",
       "      <td>1.247827</td>\n",
       "      <td>1.167127</td>\n",
       "    </tr>\n",
       "  </tbody>\n",
       "</table>\n",
       "</div>"
      ],
      "text/plain": [
       "              A         B         C         D\n",
       "count  6.000000  6.000000  6.000000  6.000000\n",
       "mean   0.421735  0.227715 -0.043640  0.284100\n",
       "std    1.151602  1.143377  0.980109  0.581413\n",
       "min   -1.104309 -1.711289 -1.335090 -0.280479\n",
       "25%   -0.639167 -0.138744 -0.848400 -0.279287\n",
       "50%    0.048017  0.072645 -0.406295  0.154749\n",
       "75%    1.428965  1.321582  0.598256  0.777462\n",
       "max    1.637699  1.405034  1.247827  1.167127"
      ]
     },
     "execution_count": 24,
     "metadata": {},
     "output_type": "execute_result"
    }
   ],
   "source": [
    "kdf.describe()"
   ]
  },
  {
   "cell_type": "code",
   "execution_count": 25,
   "id": "destroyed-premium",
   "metadata": {},
   "outputs": [
    {
     "data": {
      "text/html": [
       "<div>\n",
       "<style scoped>\n",
       "    .dataframe tbody tr th:only-of-type {\n",
       "        vertical-align: middle;\n",
       "    }\n",
       "\n",
       "    .dataframe tbody tr th {\n",
       "        vertical-align: top;\n",
       "    }\n",
       "\n",
       "    .dataframe thead th {\n",
       "        text-align: right;\n",
       "    }\n",
       "</style>\n",
       "<table border=\"1\" class=\"dataframe\">\n",
       "  <thead>\n",
       "    <tr style=\"text-align: right;\">\n",
       "      <th></th>\n",
       "      <th>0</th>\n",
       "      <th>1</th>\n",
       "      <th>2</th>\n",
       "      <th>3</th>\n",
       "      <th>4</th>\n",
       "      <th>5</th>\n",
       "    </tr>\n",
       "  </thead>\n",
       "  <tbody>\n",
       "    <tr>\n",
       "      <th>A</th>\n",
       "      <td>-1.104309</td>\n",
       "      <td>0.048017</td>\n",
       "      <td>1.428965</td>\n",
       "      <td>1.637699</td>\n",
       "      <td>1.159207</td>\n",
       "      <td>-0.639167</td>\n",
       "    </tr>\n",
       "    <tr>\n",
       "      <th>B</th>\n",
       "      <td>-1.711289</td>\n",
       "      <td>1.321582</td>\n",
       "      <td>0.072645</td>\n",
       "      <td>0.417062</td>\n",
       "      <td>1.405034</td>\n",
       "      <td>-0.138744</td>\n",
       "    </tr>\n",
       "    <tr>\n",
       "      <th>C</th>\n",
       "      <td>0.598256</td>\n",
       "      <td>-1.335090</td>\n",
       "      <td>0.481861</td>\n",
       "      <td>1.247827</td>\n",
       "      <td>-0.848400</td>\n",
       "      <td>-0.406295</td>\n",
       "    </tr>\n",
       "    <tr>\n",
       "      <th>D</th>\n",
       "      <td>-0.279287</td>\n",
       "      <td>1.167127</td>\n",
       "      <td>0.165028</td>\n",
       "      <td>0.777462</td>\n",
       "      <td>-0.280479</td>\n",
       "      <td>0.154749</td>\n",
       "    </tr>\n",
       "  </tbody>\n",
       "</table>\n",
       "</div>"
      ],
      "text/plain": [
       "          0         1         2         3         4         5\n",
       "A -1.104309  0.048017  1.428965  1.637699  1.159207 -0.639167\n",
       "B -1.711289  1.321582  0.072645  0.417062  1.405034 -0.138744\n",
       "C  0.598256 -1.335090  0.481861  1.247827 -0.848400 -0.406295\n",
       "D -0.279287  1.167127  0.165028  0.777462 -0.280479  0.154749"
      ]
     },
     "execution_count": 25,
     "metadata": {},
     "output_type": "execute_result"
    }
   ],
   "source": [
    "kdf.T"
   ]
  },
  {
   "cell_type": "code",
   "execution_count": 26,
   "id": "southeast-citizenship",
   "metadata": {},
   "outputs": [
    {
     "data": {
      "text/html": [
       "<div>\n",
       "<style scoped>\n",
       "    .dataframe tbody tr th:only-of-type {\n",
       "        vertical-align: middle;\n",
       "    }\n",
       "\n",
       "    .dataframe tbody tr th {\n",
       "        vertical-align: top;\n",
       "    }\n",
       "\n",
       "    .dataframe thead th {\n",
       "        text-align: right;\n",
       "    }\n",
       "</style>\n",
       "<table border=\"1\" class=\"dataframe\">\n",
       "  <thead>\n",
       "    <tr style=\"text-align: right;\">\n",
       "      <th></th>\n",
       "      <th>A</th>\n",
       "      <th>B</th>\n",
       "      <th>C</th>\n",
       "      <th>D</th>\n",
       "    </tr>\n",
       "  </thead>\n",
       "  <tbody>\n",
       "    <tr>\n",
       "      <th>0</th>\n",
       "      <td>-1.104309</td>\n",
       "      <td>-1.711289</td>\n",
       "      <td>0.598256</td>\n",
       "      <td>-0.279287</td>\n",
       "    </tr>\n",
       "    <tr>\n",
       "      <th>5</th>\n",
       "      <td>-0.639167</td>\n",
       "      <td>-0.138744</td>\n",
       "      <td>-0.406295</td>\n",
       "      <td>0.154749</td>\n",
       "    </tr>\n",
       "    <tr>\n",
       "      <th>2</th>\n",
       "      <td>1.428965</td>\n",
       "      <td>0.072645</td>\n",
       "      <td>0.481861</td>\n",
       "      <td>0.165028</td>\n",
       "    </tr>\n",
       "    <tr>\n",
       "      <th>3</th>\n",
       "      <td>1.637699</td>\n",
       "      <td>0.417062</td>\n",
       "      <td>1.247827</td>\n",
       "      <td>0.777462</td>\n",
       "    </tr>\n",
       "    <tr>\n",
       "      <th>1</th>\n",
       "      <td>0.048017</td>\n",
       "      <td>1.321582</td>\n",
       "      <td>-1.335090</td>\n",
       "      <td>1.167127</td>\n",
       "    </tr>\n",
       "    <tr>\n",
       "      <th>4</th>\n",
       "      <td>1.159207</td>\n",
       "      <td>1.405034</td>\n",
       "      <td>-0.848400</td>\n",
       "      <td>-0.280479</td>\n",
       "    </tr>\n",
       "  </tbody>\n",
       "</table>\n",
       "</div>"
      ],
      "text/plain": [
       "          A         B         C         D\n",
       "0 -1.104309 -1.711289  0.598256 -0.279287\n",
       "5 -0.639167 -0.138744 -0.406295  0.154749\n",
       "2  1.428965  0.072645  0.481861  0.165028\n",
       "3  1.637699  0.417062  1.247827  0.777462\n",
       "1  0.048017  1.321582 -1.335090  1.167127\n",
       "4  1.159207  1.405034 -0.848400 -0.280479"
      ]
     },
     "execution_count": 26,
     "metadata": {},
     "output_type": "execute_result"
    }
   ],
   "source": [
    "kdf.sort_values(by='B')"
   ]
  },
  {
   "cell_type": "code",
   "execution_count": 27,
   "id": "linear-subdivision",
   "metadata": {},
   "outputs": [
    {
     "data": {
      "text/plain": [
       "8"
      ]
     },
     "execution_count": 27,
     "metadata": {},
     "output_type": "execute_result"
    }
   ],
   "source": [
    "sdf.rdd.getNumPartitions()"
   ]
  },
  {
   "cell_type": "code",
   "execution_count": 29,
   "id": "duplicate-latvia",
   "metadata": {},
   "outputs": [],
   "source": [
    "#kdf.rdd.getNumPartitions()"
   ]
  },
  {
   "cell_type": "code",
   "execution_count": null,
   "id": "banned-reading",
   "metadata": {},
   "outputs": [],
   "source": []
  }
 ],
 "metadata": {
  "kernelspec": {
   "display_name": "Python 3",
   "language": "python",
   "name": "python3"
  },
  "language_info": {
   "codemirror_mode": {
    "name": "ipython",
    "version": 3
   },
   "file_extension": ".py",
   "mimetype": "text/x-python",
   "name": "python",
   "nbconvert_exporter": "python",
   "pygments_lexer": "ipython3",
   "version": "3.8.8"
  }
 },
 "nbformat": 4,
 "nbformat_minor": 5
}
