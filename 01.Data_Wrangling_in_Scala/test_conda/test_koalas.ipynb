{
 "cells": [
  {
   "cell_type": "code",
   "execution_count": 3,
   "metadata": {
    "tags": [
     "outputPrepend"
    ]
   },
   "outputs": [
    {
     "output_type": "stream",
     "name": "stdout",
     "text": [
      " py38_0  \nastroid                   2.4.2                    py38_0  \nastropy                   4.0.1.post1      py38h7b6447c_1  \natomicwrites              1.4.0                      py_0  \nattrs                     19.3.0                     py_0  \nautopep8                  1.5.3                      py_0  \naws-c-common              0.4.58               he1b5a44_0    conda-forge\naws-c-event-stream        0.1.6                h40cadec_4    conda-forge\naws-checksums             0.1.9                h06af661_1    conda-forge\naws-sdk-cpp               1.8.56               hd7de01c_1    conda-forge\nbabel                     2.8.0                      py_0  \nbackcall                  0.2.0                      py_0  \nbackports                 1.0                        py_2  \nbackports.functools_lru_cache 1.6.1              pyhd3eb1b0_0  \nbackports.shutil_get_terminal_size 1.0.0                    py38_2  \nbackports.tempfile        1.0                pyhd3eb1b0_1  \nbackports.weakref         1.0.post1                  py_1  \nbeautifulsoup4            4.9.1                    py38_0  \nbitarray                  1.4.0            py38h7b6447c_0  \nbkcharts                  0.2                      py38_0  \nblas                      1.0                         mkl  \nbleach                    3.1.5                      py_0  \nblosc                     1.19.0               hd408876_0  \nbokeh                     2.1.1                    py38_0  \nboto                      2.49.0                   py38_0  \nbottleneck                1.3.2            py38heb32a55_1  \nbrotli                    1.0.9                he1b5a44_3    conda-forge\nbrotlipy                  0.7.0           py38h7b6447c_1000  \nbzip2                     1.0.8                h7b6447c_0  \nc-ares                    1.17.1               h36c2ea0_0    conda-forge\nca-certificates           2020.6.24                     0  \ncairo                     1.14.12              h8948797_3  \ncertifi                   2020.6.20                py38_0  \ncffi                      1.14.0           py38he30daa8_1  \nchardet                   3.0.4                 py38_1003  \nclick                     7.1.2                      py_0  \ncloudpickle               1.5.0                      py_0  \nclyent                    1.2.2                    py38_1  \ncolorama                  0.4.3                      py_0  \nconda                     4.9.2            py38h578d9bd_0    conda-forge\nconda-build               3.18.11                  py38_0  \nconda-env                 2.6.0                         1  \nconda-package-handling    1.7.2            py38h03888b9_0  \nconda-verify              3.4.2                      py_1  \ncontextlib2               0.6.0.post1                py_0  \ncryptography              2.9.2            py38h1ba5d50_0  \ncurl                      7.71.1               hbc83047_1  \ncycler                    0.10.0                   py38_0  \ncython                    0.29.21          py38he6710b0_0  \ncytoolz                   0.10.1           py38h7b6447c_0  \ndask                      2.20.0                     py_0  \ndask-core                 2.20.0                     py_0  \ndbus                      1.13.16              hb2f20db_0  \ndecorator                 4.4.2                      py_0  \ndefusedxml                0.6.0                      py_0  \ndiff-match-patch          20200713                   py_0  \ndistributed               2.20.0                   py38_0  \ndocutils                  0.16                     py38_1  \nentrypoints               0.3                      py38_0  \net_xmlfile                1.0.1                   py_1001  \nexpat                     2.2.9                he6710b0_2  \nfastcache                 1.1.0            py38h7b6447c_0  \nfilelock                  3.0.12                     py_0  \nflake8                    3.8.3                      py_0  \nflask                     1.1.2                      py_0  \nfontconfig                2.13.0               h9420a91_0  \nfreetype                  2.10.2               h5ab3b9f_0  \nfribidi                   1.0.9                h7b6447c_0  \nfsspec                    0.7.4                      py_0  \nfuture                    0.18.2                   py38_1  \nget_terminal_size         1.0.0                haa9412d_0  \ngevent                    20.6.2           py38h7b6447c_0  \ngflags                    2.2.2             he1b5a44_1004    conda-forge\nglib                      2.65.0               h3eb4bd4_0  \nglob2                     0.7                        py_0  \nglog                      0.4.0                h49b9bf7_3    conda-forge\ngmp                       6.1.2                h6c8ec71_1  \ngmpy2                     2.0.8            py38hd5f6e3b_3  \ngraphite2                 1.3.14               h23475e2_0  \ngreenlet                  0.4.16           py38h7b6447c_0  \ngrpc-cpp                  1.32.0               h0111dd7_0    conda-forge\ngst-plugins-base          1.14.0               hbbd80ab_1  \ngstreamer                 1.14.0               hb31296c_0  \nh5py                      2.10.0           py38h7918eee_0  \nharfbuzz                  2.4.0                hca77d97_1  \nhdf5                      1.10.4               hb1b8bf9_0  \nheapdict                  1.0.1                      py_0  \nhtml5lib                  1.1                        py_0  \nicu                       58.2                 he6710b0_3  \nidna                      2.10                       py_0  \nimageio                   2.9.0                      py_0  \nimagesize                 1.2.0                      py_0  \nimportlib-metadata        1.7.0                    py38_0  \nimportlib_metadata        1.7.0                         0  \nintel-openmp              2020.1                      217  \nintervaltree              3.0.2                      py_1  \nipykernel                 5.3.2            py38h5ca1d4c_0  \nipython                   7.16.1           py38h5ca1d4c_0  \nipython_genutils          0.2.0                    py38_0  \nipywidgets                7.5.1                      py_0  \nisort                     4.3.21                   py38_0  \nitsdangerous              1.1.0                      py_0  \njbig                      2.1                  hdba287a_0  \njdcal                     1.4.1                      py_0  \njedi                      0.17.1                   py38_0  \njeepney                   0.4.3                      py_0  \njinja2                    2.11.2                     py_0  \njoblib                    0.16.0                     py_0  \njpeg                      9b                   h024ee3a_2  \njson5                     0.9.5                      py_0  \njsonschema                3.2.0                    py38_0  \njupyter                   1.0.0                    py38_7  \njupyter_client            6.1.6                      py_0  \njupyter_console           6.1.0                      py_0  \njupyter_core              4.6.3                    py38_0  \njupyterlab                2.1.5                      py_0  \njupyterlab_server         1.2.0                      py_0  \nkeyring                   21.2.1                   py38_0  \nkiwisolver                1.2.0            py38hfd86e86_0  \nkoalas                    1.6.0              pyhd8ed1ab_0    conda-forge\nkrb5                      1.18.2               h173b8e3_0  \nlazy-object-proxy         1.4.3            py38h7b6447c_0  \nlcms2                     2.11                 h396b838_0  \nld_impl_linux-64          2.33.1               h53a641e_7  \nlibarchive                3.4.2                h62408e4_0  \nlibcurl                   7.71.1               h20c2e04_1  \nlibedit                   3.1.20191231         h14c3975_1  \nlibevent                  2.1.10               hcdb4288_2    conda-forge\nlibffi                    3.3                  he6710b0_2  \nlibgcc-ng                 9.1.0                hdf63c60_0  \nlibgfortran-ng            7.3.0                hdf63c60_0  \nliblief                   0.10.1               he6710b0_0  \nlibllvm9                  9.0.1                h4a3c616_1  \nlibpng                    1.6.37               hbc83047_0  \nlibprotobuf               3.13.0.1             h8b12597_0    conda-forge\nlibsodium                 1.0.18               h7b6447c_0  \nlibspatialindex           1.9.3                he6710b0_0  \nlibssh2                   1.9.0                h1ba5d50_1  \nlibstdcxx-ng              9.1.0                hdf63c60_0  \nlibthrift                 0.13.0               h5aa387f_6    conda-forge\nlibtiff                   4.1.0                h2733197_1  \nlibtool                   2.4.6                h7b6447c_5  \nlibutf8proc               2.6.0                h36c2ea0_0    conda-forge\nlibuuid                   1.0.3                h1bed415_2  \nlibxcb                    1.14                 h7b6447c_0  \nlibxml2                   2.9.10               he19cac6_1  \nlibxslt                   1.1.34               hc22bd24_0  \nllvmlite                  0.33.0           py38hc6ec683_1  \nlocket                    0.2.0                    py38_1  \nlxml                      4.5.2            py38hefd8a0e_0  \nlz4-c                     1.9.2                he6710b0_0  \nlzo                       2.10                 h7b6447c_2  \nmarkupsafe                1.1.1            py38h7b6447c_0  \nmatplotlib                3.2.2                         0  \nmatplotlib-base           3.2.2            py38hef1b27d_0  \nmccabe                    0.6.1                    py38_1  \nmistune                   0.8.4           py38h7b6447c_1000  \nmkl                       2020.1                      217  \nmkl-service               2.3.0            py38he904b0f_0  \nmkl_fft                   1.1.0            py38h23d657b_0  \nmkl_random                1.1.1            py38h0573a6f_0  \nmock                      4.0.2                      py_0  \nmore-itertools            8.4.0                      py_0  \nmpc                       1.1.0                h10f8cd9_1  \nmpfr                      4.0.2                hb69a4c5_1  \nmpmath                    1.1.0                    py38_0  \nmsgpack-python            1.0.0            py38hfd86e86_1  \nmultipledispatch          0.6.0                    py38_0  \nnavigator-updater         0.2.1                    py38_0  \nnbconvert                 5.6.1                    py38_0  \nnbformat                  5.0.7                      py_0  \nncurses                   6.2                  he6710b0_1  \nnetworkx                  2.4                        py_1  \nnltk                      3.5                        py_0  \nnose                      1.3.7                    py38_2  \nnotebook                  6.0.3                    py38_0  \nnumba                     0.50.1           py38h0573a6f_1  \nnumexpr                   2.7.1            py38h423224d_0  \nnumpy                     1.18.5           py38ha1c710e_0  \nnumpy-base                1.18.5           py38hde5b4d6_0  \nnumpydoc                  1.1.0                      py_0  \nolefile                   0.46                       py_0  \nopenpyxl                  3.0.4                      py_0  \nopenssl                   1.1.1g               h7b6447c_0  \norc                       1.6.4                hd3605a7_2    conda-forge\npackaging                 20.4                       py_0  \npandas                    1.0.5            py38h0573a6f_0  \npandoc                    2.10                          0  \npandocfilters             1.4.2                    py38_1  \npango                     1.45.3               hd140c19_0  \nparquet-cpp               1.5.1                         2    conda-forge\nparso                     0.7.0                      py_0  \npartd                     1.1.0                      py_0  \npatchelf                  0.11                 he6710b0_0  \npath                      13.1.0                   py38_0  \npath.py                   12.4.0                        0  \npathlib2                  2.3.5                    py38_0  \npathtools                 0.1.2                      py_1  \npatsy                     0.5.1                    py38_0  \npcre                      8.44                 he6710b0_0  \npep8                      1.7.1                    py38_0  \npexpect                   4.8.0                    py38_0  \npickleshare               0.7.5                 py38_1000  \npillow                    7.2.0            py38hb39fc2d_0  \npip                       20.1.1                   py38_1  \npixman                    0.40.0               h7b6447c_0  \npkginfo                   1.5.0.1                  py38_0  \npluggy                    0.13.1                   py38_0  \nply                       3.11                     py38_0  \nprometheus_client         0.8.0                      py_0  \nprompt-toolkit            3.0.5                      py_0  \nprompt_toolkit            3.0.5                         0  \npsutil                    5.7.0            py38h7b6447c_0  \nptyprocess                0.6.0                    py38_0  \npy                        1.9.0                      py_0  \npy-lief                   0.10.1           py38h403a769_0  \npy4j                      0.10.9             pyh9f0ad1d_0    conda-forge\npyarrow                   1.0.1           py38h9235441_9_cpu    conda-forge\npycodestyle               2.6.0                      py_0  \npycosat                   0.6.3            py38h7b6447c_1  \npycparser                 2.20                       py_2  \npycurl                    7.43.0.5         py38h1ba5d50_0  \npydocstyle                5.0.2                      py_0  \npyflakes                  2.2.0                      py_0  \npygments                  2.6.1                      py_0  \npylint                    2.5.3                    py38_0  \npyodbc                    4.0.30           py38he6710b0_0  \npyopenssl                 19.1.0                     py_1  \npyparsing                 2.4.7                      py_0  \npyqt                      5.9.2            py38h05f1152_4  \npyrsistent                0.16.0           py38h7b6447c_0  \npysocks                   1.7.1                    py38_0  \npyspark                   3.1.1              pyh44b312d_0    conda-forge\npytables                  3.6.1            py38h9fd0a39_0  \npytest                    5.4.3                    py38_0  \npython                    3.8.3                hcff3b4d_2  \npython-dateutil           2.8.1                      py_0  \npython-jsonrpc-server     0.3.4                      py_1  \npython-language-server    0.34.1                   py38_0  \npython-libarchive-c       2.9                        py_0  \npython_abi                3.8                      1_cp38    conda-forge\npytz                      2020.1                     py_0  \npywavelets                1.1.1            py38h7b6447c_0  \npyxdg                     0.26                       py_0  \npyyaml                    5.3.1            py38h7b6447c_1  \npyzmq                     19.0.1           py38he6710b0_1  \nqdarkstyle                2.8.1                      py_0  \nqt                        5.9.7                h5867ecd_1  \nqtawesome                 0.7.2                      py_0  \nqtconsole                 4.7.5                      py_0  \nqtpy                      1.9.0                      py_0  \nre2                       2020.08.01           he1b5a44_1    conda-forge\nreadline                  8.0                  h7b6447c_0  \nregex                     2020.6.8         py38h7b6447c_0  \nrequests                  2.24.0                     py_0  \nripgrep                   11.0.2               he32d670_0  \nrope                      0.17.0                     py_0  \nrtree                     0.9.4                    py38_1  \nruamel_yaml               0.15.87          py38h7b6447c_1  \nscikit-image              0.16.2           py38h0573a6f_0  \nscikit-learn              0.23.1           py38h423224d_0  \nscipy                     1.5.0            py38h0b6359f_0  \nseaborn                   0.10.1                     py_0  \nsecretstorage             3.1.2                    py38_0  \nsend2trash                1.5.0                    py38_0  \nsetuptools                49.2.0                   py38_0  \nsimplegeneric             0.8.1                    py38_2  \nsingledispatch            3.4.0.3                  py38_0  \nsip                       4.19.13          py38he6710b0_0  \nsix                       1.15.0                     py_0  \nsnappy                    1.1.8                he6710b0_0  \nsnowballstemmer           2.0.0                      py_0  \nsortedcollections         1.2.1                      py_0  \nsortedcontainers          2.2.2                      py_0  \nsoupsieve                 2.0.1                      py_0  \nsphinx                    3.1.2                      py_0  \nsphinxcontrib             1.0                      py38_1  \nsphinxcontrib-applehelp   1.0.2                      py_0  \nsphinxcontrib-devhelp     1.0.2                      py_0  \nsphinxcontrib-htmlhelp    1.0.3                      py_0  \nsphinxcontrib-jsmath      1.0.1                      py_0  \nsphinxcontrib-qthelp      1.0.3                      py_0  \nsphinxcontrib-serializinghtml 1.1.4                      py_0  \nsphinxcontrib-websupport  1.2.3                      py_0  \nspyder                    4.1.4                    py38_0  \nspyder-kernels            1.9.2                    py38_0  \nsqlalchemy                1.3.18           py38h7b6447c_0  \nsqlite                    3.32.3               h62c20be_0  \nstatsmodels               0.11.1           py38h7b6447c_0  \nsympy                     1.6.1                    py38_0  \ntbb                       2020.0               hfd86e86_0  \ntblib                     1.6.0                      py_0  \nterminado                 0.8.3                    py38_0  \ntestpath                  0.4.4                      py_0  \nthreadpoolctl             2.1.0              pyh5ca1d4c_0  \ntk                        8.6.10               hbc83047_0  \ntoml                      0.10.1                     py_0  \ntoolz                     0.10.0                     py_0  \ntornado                   6.0.4            py38h7b6447c_1  \ntqdm                      4.47.0                     py_0  \ntraitlets                 4.3.3                    py38_0  \ntyping_extensions         3.7.4.2                    py_0  \nujson                     1.35             py38h7b6447c_0  \nunicodecsv                0.14.1                   py38_0  \nunixodbc                  2.3.7                h14c3975_0  \nurllib3                   1.25.9                     py_0  \nwatchdog                  0.10.3                   py38_0  \nwcwidth                   0.2.5                      py_0  \nwebencodings              0.5.1                    py38_1  \nwerkzeug                  1.0.1                      py_0  \nwheel                     0.34.2                   py38_0  \nwidgetsnbextension        3.5.1                    py38_0  \nwrapt                     1.11.2           py38h7b6447c_0  \nwurlitzer                 2.0.1                    py38_0  \nxlrd                      1.2.0                      py_0  \nxlsxwriter                1.2.9                      py_0  \nxlwt                      1.3.0                    py38_0  \nxmltodict                 0.12.0                     py_0  \nxz                        5.2.5                h7b6447c_0  \nyaml                      0.2.5                h7b6447c_0  \nyapf                      0.30.0                     py_0  \nzeromq                    4.3.2                he6710b0_2  \nzict                      2.0.0                      py_0  \nzipp                      3.1.0                      py_0  \nzlib                      1.2.11               h7b6447c_3  \nzope                      1.0                      py38_1  \nzope.event                4.4                      py38_0  \nzope.interface            4.7.1            py38h7b6447c_0  \nzstd                      1.4.5                h0b5b093_0  \n"
     ]
    }
   ],
   "source": [
    "!conda list"
   ]
  },
  {
   "cell_type": "code",
   "execution_count": 4,
   "metadata": {},
   "outputs": [
    {
     "output_type": "stream",
     "name": "stdout",
     "text": [
      "# conda environments:\n",
      "#\n",
      "sparkenv                 /home/sunflowa/.conda/envs/sparkenv\n",
      "base                  *  /opt/anaconda3\n",
      "\n",
      "\n",
      "Note: you may need to restart the kernel to use updated packages.\n"
     ]
    }
   ],
   "source": [
    "conda env list"
   ]
  },
  {
   "cell_type": "code",
   "execution_count": 5,
   "id": "fleet-marker",
   "metadata": {},
   "outputs": [
    {
     "output_type": "stream",
     "name": "stdout",
     "text": [
      "Python 3.8.3 (default, Jul  2 2020, 16:21:59) \n",
      "[GCC 7.3.0] :: Anaconda, Inc. on linux\n",
      "Type \"help\", \"copyright\", \"credits\" or \"license\" for more information.\n",
      "21/03/06 20:37:49 WARN Utils: Your hostname, sunflowa-WS resolves to a loopback address: 127.0.1.1; using 192.168.1.183 instead (on interface wlp3s0)\n",
      "21/03/06 20:37:49 WARN Utils: Set SPARK_LOCAL_IP if you need to bind to another address\n",
      "WARNING: An illegal reflective access operation has occurred\n",
      "WARNING: Illegal reflective access by org.apache.spark.unsafe.Platform (file:/opt/anaconda3/lib/python3.8/site-packages/pyspark/jars/spark-unsafe_2.12-3.1.1.jar) to constructor java.nio.DirectByteBuffer(long,int)\n",
      "WARNING: Please consider reporting this to the maintainers of org.apache.spark.unsafe.Platform\n",
      "WARNING: Use --illegal-access=warn to enable warnings of further illegal reflective access operations\n",
      "WARNING: All illegal access operations will be denied in a future release\n",
      "21/03/06 20:37:50 WARN NativeCodeLoader: Unable to load native-hadoop library for your platform... using builtin-java classes where applicable\n",
      "Using Spark's default log4j profile: org/apache/spark/log4j-defaults.properties\n",
      "Setting default log level to \"WARN\".\n",
      "To adjust logging level use sc.setLogLevel(newLevel). For SparkR, use setLogLevel(newLevel).\n",
      "Welcome to\n",
      "      ____              __\n",
      "     / __/__  ___ _____/ /__\n",
      "    _\\ \\/ _ \\/ _ `/ __/  '_/\n",
      "   /__ / .__/\\_,_/_/ /_/\\_\\   version 3.1.1\n",
      "      /_/\n",
      "\n",
      "Using Python version 3.8.3 (default, Jul  2 2020 16:21:59)\n",
      "Spark context Web UI available at http://192.168.1.183:4040\n",
      "Spark context available as 'sc' (master = local[*], app id = local-1615059471432).\n",
      "SparkSession available as 'spark'.\n",
      ">>> \n",
      "Traceback (most recent call last):\n",
      "  File \"<stdin>\", line 1, in <module>\n",
      "  File \"/opt/anaconda3/lib/python3.8/site-packages/pyspark/context.py\", line 285, in signal_handler\n",
      "    raise KeyboardInterrupt()\n",
      "KeyboardInterrupt\n",
      ">>> "
     ]
    }
   ],
   "source": [
    "!pyspark"
   ]
  },
  {
   "cell_type": "code",
   "execution_count": 6,
   "metadata": {},
   "outputs": [
    {
     "output_type": "stream",
     "name": "stdout",
     "text": [
      "3.1.1\n"
     ]
    }
   ],
   "source": [
    "from pyspark.context import SparkContext\n",
    "from pyspark import SQLContext, SparkConf\n",
    "\n",
    "sc_conf = SparkConf()\n",
    "sc = SparkContext(conf=sc_conf)\n",
    "print(sc.version)"
   ]
  },
  {
   "cell_type": "code",
   "execution_count": 7,
   "id": "occupational-wells",
   "metadata": {},
   "outputs": [],
   "source": [
    "import pandas as pd\n",
    "import numpy as np\n",
    "import databricks.koalas as ks\n",
    "from pyspark.sql import SparkSession"
   ]
  },
  {
   "cell_type": "code",
   "execution_count": 8,
   "id": "approved-binding",
   "metadata": {},
   "outputs": [
    {
     "output_type": "execute_result",
     "data": {
      "text/plain": [
       "0    1.0\n",
       "1    3.0\n",
       "2    5.0\n",
       "3    NaN\n",
       "4    6.0\n",
       "5    8.0\n",
       "dtype: float64"
      ]
     },
     "metadata": {},
     "execution_count": 8
    }
   ],
   "source": [
    "s = ks.Series([1, 3, 5, np.nan, 6, 8])\n",
    "s"
   ]
  },
  {
   "cell_type": "code",
   "execution_count": 9,
   "id": "funky-arrest",
   "metadata": {},
   "outputs": [
    {
     "output_type": "execute_result",
     "data": {
      "text/plain": [
       "    a    b      c\n",
       "10  1  100    one\n",
       "20  2  200    two\n",
       "30  3  300  three\n",
       "40  4  400   four\n",
       "50  5  500   five\n",
       "60  6  600    six"
      ],
      "text/html": "<div>\n<style scoped>\n    .dataframe tbody tr th:only-of-type {\n        vertical-align: middle;\n    }\n\n    .dataframe tbody tr th {\n        vertical-align: top;\n    }\n\n    .dataframe thead th {\n        text-align: right;\n    }\n</style>\n<table border=\"1\" class=\"dataframe\">\n  <thead>\n    <tr style=\"text-align: right;\">\n      <th></th>\n      <th>a</th>\n      <th>b</th>\n      <th>c</th>\n    </tr>\n  </thead>\n  <tbody>\n    <tr>\n      <th>10</th>\n      <td>1</td>\n      <td>100</td>\n      <td>one</td>\n    </tr>\n    <tr>\n      <th>20</th>\n      <td>2</td>\n      <td>200</td>\n      <td>two</td>\n    </tr>\n    <tr>\n      <th>30</th>\n      <td>3</td>\n      <td>300</td>\n      <td>three</td>\n    </tr>\n    <tr>\n      <th>40</th>\n      <td>4</td>\n      <td>400</td>\n      <td>four</td>\n    </tr>\n    <tr>\n      <th>50</th>\n      <td>5</td>\n      <td>500</td>\n      <td>five</td>\n    </tr>\n    <tr>\n      <th>60</th>\n      <td>6</td>\n      <td>600</td>\n      <td>six</td>\n    </tr>\n  </tbody>\n</table>\n</div>"
     },
     "metadata": {},
     "execution_count": 9
    }
   ],
   "source": [
    "kdf = ks.DataFrame(\n",
    "    {'a': [1, 2, 3, 4, 5, 6],\n",
    "     'b': [100, 200, 300, 400, 500, 600],\n",
    "     'c': [\"one\", \"two\", \"three\", \"four\", \"five\", \"six\"]},\n",
    "    index=[10, 20, 30, 40, 50, 60])\n",
    "\n",
    "kdf"
   ]
  },
  {
   "cell_type": "code",
   "execution_count": 10,
   "id": "quantitative-effort",
   "metadata": {},
   "outputs": [
    {
     "output_type": "execute_result",
     "data": {
      "text/plain": [
       "DatetimeIndex(['2013-01-01', '2013-01-02', '2013-01-03', '2013-01-04',\n",
       "               '2013-01-05', '2013-01-06'],\n",
       "              dtype='datetime64[ns]', freq='D')"
      ]
     },
     "metadata": {},
     "execution_count": 10
    }
   ],
   "source": [
    "dates = pd.date_range('20130101', periods=6)\n",
    "dates"
   ]
  },
  {
   "cell_type": "code",
   "execution_count": 11,
   "id": "manufactured-contributor",
   "metadata": {},
   "outputs": [
    {
     "output_type": "execute_result",
     "data": {
      "text/plain": [
       "                   A         B         C         D\n",
       "2013-01-01 -0.067689 -0.214082  0.453176 -0.262399\n",
       "2013-01-02  0.664315 -1.245683 -1.869158  0.564032\n",
       "2013-01-03  0.332261 -0.639897 -0.238486 -1.352517\n",
       "2013-01-04  0.076203 -1.477672  1.448462  2.242684\n",
       "2013-01-05  3.091701 -0.701141 -0.524549 -0.280647\n",
       "2013-01-06  0.144446  0.214210  1.655770  0.560694"
      ],
      "text/html": "<div>\n<style scoped>\n    .dataframe tbody tr th:only-of-type {\n        vertical-align: middle;\n    }\n\n    .dataframe tbody tr th {\n        vertical-align: top;\n    }\n\n    .dataframe thead th {\n        text-align: right;\n    }\n</style>\n<table border=\"1\" class=\"dataframe\">\n  <thead>\n    <tr style=\"text-align: right;\">\n      <th></th>\n      <th>A</th>\n      <th>B</th>\n      <th>C</th>\n      <th>D</th>\n    </tr>\n  </thead>\n  <tbody>\n    <tr>\n      <th>2013-01-01</th>\n      <td>-0.067689</td>\n      <td>-0.214082</td>\n      <td>0.453176</td>\n      <td>-0.262399</td>\n    </tr>\n    <tr>\n      <th>2013-01-02</th>\n      <td>0.664315</td>\n      <td>-1.245683</td>\n      <td>-1.869158</td>\n      <td>0.564032</td>\n    </tr>\n    <tr>\n      <th>2013-01-03</th>\n      <td>0.332261</td>\n      <td>-0.639897</td>\n      <td>-0.238486</td>\n      <td>-1.352517</td>\n    </tr>\n    <tr>\n      <th>2013-01-04</th>\n      <td>0.076203</td>\n      <td>-1.477672</td>\n      <td>1.448462</td>\n      <td>2.242684</td>\n    </tr>\n    <tr>\n      <th>2013-01-05</th>\n      <td>3.091701</td>\n      <td>-0.701141</td>\n      <td>-0.524549</td>\n      <td>-0.280647</td>\n    </tr>\n    <tr>\n      <th>2013-01-06</th>\n      <td>0.144446</td>\n      <td>0.214210</td>\n      <td>1.655770</td>\n      <td>0.560694</td>\n    </tr>\n  </tbody>\n</table>\n</div>"
     },
     "metadata": {},
     "execution_count": 11
    }
   ],
   "source": [
    "pdf = pd.DataFrame(np.random.randn(6, 4), index=dates, columns=list('ABCD'))\n",
    "pdf"
   ]
  },
  {
   "cell_type": "code",
   "execution_count": 12,
   "id": "insured-softball",
   "metadata": {},
   "outputs": [
    {
     "output_type": "execute_result",
     "data": {
      "text/plain": [
       "databricks.koalas.frame.DataFrame"
      ]
     },
     "metadata": {},
     "execution_count": 12
    }
   ],
   "source": [
    "kdf = ks.from_pandas(pdf)\n",
    "type(kdf)"
   ]
  },
  {
   "cell_type": "code",
   "execution_count": 13,
   "id": "fitted-mercy",
   "metadata": {},
   "outputs": [
    {
     "output_type": "execute_result",
     "data": {
      "text/plain": [
       "                   A         B         C         D\n",
       "2013-01-01 -0.067689 -0.214082  0.453176 -0.262399\n",
       "2013-01-02  0.664315 -1.245683 -1.869158  0.564032\n",
       "2013-01-03  0.332261 -0.639897 -0.238486 -1.352517\n",
       "2013-01-04  0.076203 -1.477672  1.448462  2.242684\n",
       "2013-01-05  3.091701 -0.701141 -0.524549 -0.280647\n",
       "2013-01-06  0.144446  0.214210  1.655770  0.560694"
      ],
      "text/html": "<div>\n<style scoped>\n    .dataframe tbody tr th:only-of-type {\n        vertical-align: middle;\n    }\n\n    .dataframe tbody tr th {\n        vertical-align: top;\n    }\n\n    .dataframe thead th {\n        text-align: right;\n    }\n</style>\n<table border=\"1\" class=\"dataframe\">\n  <thead>\n    <tr style=\"text-align: right;\">\n      <th></th>\n      <th>A</th>\n      <th>B</th>\n      <th>C</th>\n      <th>D</th>\n    </tr>\n  </thead>\n  <tbody>\n    <tr>\n      <th>2013-01-01</th>\n      <td>-0.067689</td>\n      <td>-0.214082</td>\n      <td>0.453176</td>\n      <td>-0.262399</td>\n    </tr>\n    <tr>\n      <th>2013-01-02</th>\n      <td>0.664315</td>\n      <td>-1.245683</td>\n      <td>-1.869158</td>\n      <td>0.564032</td>\n    </tr>\n    <tr>\n      <th>2013-01-03</th>\n      <td>0.332261</td>\n      <td>-0.639897</td>\n      <td>-0.238486</td>\n      <td>-1.352517</td>\n    </tr>\n    <tr>\n      <th>2013-01-04</th>\n      <td>0.076203</td>\n      <td>-1.477672</td>\n      <td>1.448462</td>\n      <td>2.242684</td>\n    </tr>\n    <tr>\n      <th>2013-01-05</th>\n      <td>3.091701</td>\n      <td>-0.701141</td>\n      <td>-0.524549</td>\n      <td>-0.280647</td>\n    </tr>\n    <tr>\n      <th>2013-01-06</th>\n      <td>0.144446</td>\n      <td>0.214210</td>\n      <td>1.655770</td>\n      <td>0.560694</td>\n    </tr>\n  </tbody>\n</table>\n</div>"
     },
     "metadata": {},
     "execution_count": 13
    }
   ],
   "source": [
    "kdf"
   ]
  },
  {
   "cell_type": "code",
   "execution_count": 14,
   "id": "virtual-dover",
   "metadata": {},
   "outputs": [],
   "source": [
    "spark = SparkSession.builder.getOrCreate()"
   ]
  },
  {
   "cell_type": "code",
   "execution_count": 15,
   "id": "northern-referral",
   "metadata": {},
   "outputs": [
    {
     "output_type": "stream",
     "name": "stdout",
     "text": [
      "+--------------------+--------------------+--------------------+--------------------+\n|                   A|                   B|                   C|                   D|\n+--------------------+--------------------+--------------------+--------------------+\n|-0.06768901205047259|-0.21408166467341186| 0.45317583370300657|-0.26239935967305555|\n|  0.6643152024502963|   -1.24568260635275| -1.8691584955973977|  0.5640318865900311|\n|  0.3322605956034334| -0.6398969418052696|-0.23848644105801864| -1.3525173726566206|\n| 0.07620265660765566| -1.4776719261283835|  1.4484624179952175|  2.2426840980612592|\n|  3.0917010015063204| -0.7011414008726199| -0.5245487043374321|-0.28064700690347577|\n|  0.1444462499986528|  0.2142102490782127|  1.6557703473398753|  0.5606935904879483|\n+--------------------+--------------------+--------------------+--------------------+\n\n"
     ]
    }
   ],
   "source": [
    "sdf = spark.createDataFrame(pdf)\n",
    "sdf.show()"
   ]
  },
  {
   "cell_type": "code",
   "execution_count": 16,
   "id": "armed-chart",
   "metadata": {},
   "outputs": [
    {
     "output_type": "execute_result",
     "data": {
      "text/plain": [
       "          A         B         C         D\n",
       "0 -0.067689 -0.214082  0.453176 -0.262399\n",
       "1  0.664315 -1.245683 -1.869158  0.564032\n",
       "2  0.332261 -0.639897 -0.238486 -1.352517\n",
       "3  0.076203 -1.477672  1.448462  2.242684\n",
       "4  3.091701 -0.701141 -0.524549 -0.280647\n",
       "5  0.144446  0.214210  1.655770  0.560694"
      ],
      "text/html": "<div>\n<style scoped>\n    .dataframe tbody tr th:only-of-type {\n        vertical-align: middle;\n    }\n\n    .dataframe tbody tr th {\n        vertical-align: top;\n    }\n\n    .dataframe thead th {\n        text-align: right;\n    }\n</style>\n<table border=\"1\" class=\"dataframe\">\n  <thead>\n    <tr style=\"text-align: right;\">\n      <th></th>\n      <th>A</th>\n      <th>B</th>\n      <th>C</th>\n      <th>D</th>\n    </tr>\n  </thead>\n  <tbody>\n    <tr>\n      <th>0</th>\n      <td>-0.067689</td>\n      <td>-0.214082</td>\n      <td>0.453176</td>\n      <td>-0.262399</td>\n    </tr>\n    <tr>\n      <th>1</th>\n      <td>0.664315</td>\n      <td>-1.245683</td>\n      <td>-1.869158</td>\n      <td>0.564032</td>\n    </tr>\n    <tr>\n      <th>2</th>\n      <td>0.332261</td>\n      <td>-0.639897</td>\n      <td>-0.238486</td>\n      <td>-1.352517</td>\n    </tr>\n    <tr>\n      <th>3</th>\n      <td>0.076203</td>\n      <td>-1.477672</td>\n      <td>1.448462</td>\n      <td>2.242684</td>\n    </tr>\n    <tr>\n      <th>4</th>\n      <td>3.091701</td>\n      <td>-0.701141</td>\n      <td>-0.524549</td>\n      <td>-0.280647</td>\n    </tr>\n    <tr>\n      <th>5</th>\n      <td>0.144446</td>\n      <td>0.214210</td>\n      <td>1.655770</td>\n      <td>0.560694</td>\n    </tr>\n  </tbody>\n</table>\n</div>"
     },
     "metadata": {},
     "execution_count": 16
    }
   ],
   "source": [
    "kdf = sdf.to_koalas()\n",
    "kdf"
   ]
  },
  {
   "cell_type": "code",
   "execution_count": 17,
   "id": "small-tennessee",
   "metadata": {},
   "outputs": [
    {
     "output_type": "execute_result",
     "data": {
      "text/plain": [
       "A    float64\n",
       "B    float64\n",
       "C    float64\n",
       "D    float64\n",
       "dtype: object"
      ]
     },
     "metadata": {},
     "execution_count": 17
    }
   ],
   "source": [
    "kdf.dtypes"
   ]
  },
  {
   "cell_type": "code",
   "execution_count": 18,
   "id": "impressed-repair",
   "metadata": {},
   "outputs": [
    {
     "output_type": "execute_result",
     "data": {
      "text/plain": [
       "          A         B         C         D\n",
       "0 -0.067689 -0.214082  0.453176 -0.262399\n",
       "1  0.664315 -1.245683 -1.869158  0.564032\n",
       "2  0.332261 -0.639897 -0.238486 -1.352517\n",
       "3  0.076203 -1.477672  1.448462  2.242684\n",
       "4  3.091701 -0.701141 -0.524549 -0.280647"
      ],
      "text/html": "<div>\n<style scoped>\n    .dataframe tbody tr th:only-of-type {\n        vertical-align: middle;\n    }\n\n    .dataframe tbody tr th {\n        vertical-align: top;\n    }\n\n    .dataframe thead th {\n        text-align: right;\n    }\n</style>\n<table border=\"1\" class=\"dataframe\">\n  <thead>\n    <tr style=\"text-align: right;\">\n      <th></th>\n      <th>A</th>\n      <th>B</th>\n      <th>C</th>\n      <th>D</th>\n    </tr>\n  </thead>\n  <tbody>\n    <tr>\n      <th>0</th>\n      <td>-0.067689</td>\n      <td>-0.214082</td>\n      <td>0.453176</td>\n      <td>-0.262399</td>\n    </tr>\n    <tr>\n      <th>1</th>\n      <td>0.664315</td>\n      <td>-1.245683</td>\n      <td>-1.869158</td>\n      <td>0.564032</td>\n    </tr>\n    <tr>\n      <th>2</th>\n      <td>0.332261</td>\n      <td>-0.639897</td>\n      <td>-0.238486</td>\n      <td>-1.352517</td>\n    </tr>\n    <tr>\n      <th>3</th>\n      <td>0.076203</td>\n      <td>-1.477672</td>\n      <td>1.448462</td>\n      <td>2.242684</td>\n    </tr>\n    <tr>\n      <th>4</th>\n      <td>3.091701</td>\n      <td>-0.701141</td>\n      <td>-0.524549</td>\n      <td>-0.280647</td>\n    </tr>\n  </tbody>\n</table>\n</div>"
     },
     "metadata": {},
     "execution_count": 18
    }
   ],
   "source": [
    "kdf.head()"
   ]
  },
  {
   "cell_type": "code",
   "execution_count": 19,
   "id": "iraqi-stamp",
   "metadata": {},
   "outputs": [
    {
     "output_type": "execute_result",
     "data": {
      "text/plain": [
       "Int64Index([0, 1, 2, 3, 4, 5], dtype='int64')"
      ]
     },
     "metadata": {},
     "execution_count": 19
    }
   ],
   "source": [
    "kdf.index"
   ]
  },
  {
   "cell_type": "code",
   "execution_count": 20,
   "id": "residential-entry",
   "metadata": {},
   "outputs": [
    {
     "output_type": "execute_result",
     "data": {
      "text/plain": [
       "Index(['A', 'B', 'C', 'D'], dtype='object')"
      ]
     },
     "metadata": {},
     "execution_count": 20
    }
   ],
   "source": [
    "kdf.columns"
   ]
  },
  {
   "cell_type": "code",
   "execution_count": 21,
   "id": "furnished-drove",
   "metadata": {},
   "outputs": [
    {
     "output_type": "execute_result",
     "data": {
      "text/plain": [
       "              A         B         C         D\n",
       "count  6.000000  6.000000  6.000000  6.000000\n",
       "mean   0.706873 -0.677377  0.154202  0.245308\n",
       "std    1.195288  0.628488  1.321219  1.206483\n",
       "min   -0.067689 -1.477672 -1.869158 -1.352517\n",
       "25%    0.076203 -1.245683 -0.524549 -0.280647\n",
       "50%    0.144446 -0.701141 -0.238486 -0.262399\n",
       "75%    0.664315 -0.214082  1.448462  0.564032\n",
       "max    3.091701  0.214210  1.655770  2.242684"
      ],
      "text/html": "<div>\n<style scoped>\n    .dataframe tbody tr th:only-of-type {\n        vertical-align: middle;\n    }\n\n    .dataframe tbody tr th {\n        vertical-align: top;\n    }\n\n    .dataframe thead th {\n        text-align: right;\n    }\n</style>\n<table border=\"1\" class=\"dataframe\">\n  <thead>\n    <tr style=\"text-align: right;\">\n      <th></th>\n      <th>A</th>\n      <th>B</th>\n      <th>C</th>\n      <th>D</th>\n    </tr>\n  </thead>\n  <tbody>\n    <tr>\n      <th>count</th>\n      <td>6.000000</td>\n      <td>6.000000</td>\n      <td>6.000000</td>\n      <td>6.000000</td>\n    </tr>\n    <tr>\n      <th>mean</th>\n      <td>0.706873</td>\n      <td>-0.677377</td>\n      <td>0.154202</td>\n      <td>0.245308</td>\n    </tr>\n    <tr>\n      <th>std</th>\n      <td>1.195288</td>\n      <td>0.628488</td>\n      <td>1.321219</td>\n      <td>1.206483</td>\n    </tr>\n    <tr>\n      <th>min</th>\n      <td>-0.067689</td>\n      <td>-1.477672</td>\n      <td>-1.869158</td>\n      <td>-1.352517</td>\n    </tr>\n    <tr>\n      <th>25%</th>\n      <td>0.076203</td>\n      <td>-1.245683</td>\n      <td>-0.524549</td>\n      <td>-0.280647</td>\n    </tr>\n    <tr>\n      <th>50%</th>\n      <td>0.144446</td>\n      <td>-0.701141</td>\n      <td>-0.238486</td>\n      <td>-0.262399</td>\n    </tr>\n    <tr>\n      <th>75%</th>\n      <td>0.664315</td>\n      <td>-0.214082</td>\n      <td>1.448462</td>\n      <td>0.564032</td>\n    </tr>\n    <tr>\n      <th>max</th>\n      <td>3.091701</td>\n      <td>0.214210</td>\n      <td>1.655770</td>\n      <td>2.242684</td>\n    </tr>\n  </tbody>\n</table>\n</div>"
     },
     "metadata": {},
     "execution_count": 21
    }
   ],
   "source": [
    "kdf.describe()"
   ]
  },
  {
   "cell_type": "code",
   "execution_count": 22,
   "id": "destroyed-premium",
   "metadata": {},
   "outputs": [
    {
     "output_type": "execute_result",
     "data": {
      "text/plain": [
       "          0         1         2         3         4         5\n",
       "A -0.067689  0.664315  0.332261  0.076203  3.091701  0.144446\n",
       "B -0.214082 -1.245683 -0.639897 -1.477672 -0.701141  0.214210\n",
       "C  0.453176 -1.869158 -0.238486  1.448462 -0.524549  1.655770\n",
       "D -0.262399  0.564032 -1.352517  2.242684 -0.280647  0.560694"
      ],
      "text/html": "<div>\n<style scoped>\n    .dataframe tbody tr th:only-of-type {\n        vertical-align: middle;\n    }\n\n    .dataframe tbody tr th {\n        vertical-align: top;\n    }\n\n    .dataframe thead th {\n        text-align: right;\n    }\n</style>\n<table border=\"1\" class=\"dataframe\">\n  <thead>\n    <tr style=\"text-align: right;\">\n      <th></th>\n      <th>0</th>\n      <th>1</th>\n      <th>2</th>\n      <th>3</th>\n      <th>4</th>\n      <th>5</th>\n    </tr>\n  </thead>\n  <tbody>\n    <tr>\n      <th>A</th>\n      <td>-0.067689</td>\n      <td>0.664315</td>\n      <td>0.332261</td>\n      <td>0.076203</td>\n      <td>3.091701</td>\n      <td>0.144446</td>\n    </tr>\n    <tr>\n      <th>B</th>\n      <td>-0.214082</td>\n      <td>-1.245683</td>\n      <td>-0.639897</td>\n      <td>-1.477672</td>\n      <td>-0.701141</td>\n      <td>0.214210</td>\n    </tr>\n    <tr>\n      <th>C</th>\n      <td>0.453176</td>\n      <td>-1.869158</td>\n      <td>-0.238486</td>\n      <td>1.448462</td>\n      <td>-0.524549</td>\n      <td>1.655770</td>\n    </tr>\n    <tr>\n      <th>D</th>\n      <td>-0.262399</td>\n      <td>0.564032</td>\n      <td>-1.352517</td>\n      <td>2.242684</td>\n      <td>-0.280647</td>\n      <td>0.560694</td>\n    </tr>\n  </tbody>\n</table>\n</div>"
     },
     "metadata": {},
     "execution_count": 22
    }
   ],
   "source": [
    "kdf.T"
   ]
  },
  {
   "cell_type": "code",
   "execution_count": 23,
   "id": "southeast-citizenship",
   "metadata": {},
   "outputs": [
    {
     "output_type": "execute_result",
     "data": {
      "text/plain": [
       "          A         B         C         D\n",
       "3  0.076203 -1.477672  1.448462  2.242684\n",
       "1  0.664315 -1.245683 -1.869158  0.564032\n",
       "4  3.091701 -0.701141 -0.524549 -0.280647\n",
       "2  0.332261 -0.639897 -0.238486 -1.352517\n",
       "0 -0.067689 -0.214082  0.453176 -0.262399\n",
       "5  0.144446  0.214210  1.655770  0.560694"
      ],
      "text/html": "<div>\n<style scoped>\n    .dataframe tbody tr th:only-of-type {\n        vertical-align: middle;\n    }\n\n    .dataframe tbody tr th {\n        vertical-align: top;\n    }\n\n    .dataframe thead th {\n        text-align: right;\n    }\n</style>\n<table border=\"1\" class=\"dataframe\">\n  <thead>\n    <tr style=\"text-align: right;\">\n      <th></th>\n      <th>A</th>\n      <th>B</th>\n      <th>C</th>\n      <th>D</th>\n    </tr>\n  </thead>\n  <tbody>\n    <tr>\n      <th>3</th>\n      <td>0.076203</td>\n      <td>-1.477672</td>\n      <td>1.448462</td>\n      <td>2.242684</td>\n    </tr>\n    <tr>\n      <th>1</th>\n      <td>0.664315</td>\n      <td>-1.245683</td>\n      <td>-1.869158</td>\n      <td>0.564032</td>\n    </tr>\n    <tr>\n      <th>4</th>\n      <td>3.091701</td>\n      <td>-0.701141</td>\n      <td>-0.524549</td>\n      <td>-0.280647</td>\n    </tr>\n    <tr>\n      <th>2</th>\n      <td>0.332261</td>\n      <td>-0.639897</td>\n      <td>-0.238486</td>\n      <td>-1.352517</td>\n    </tr>\n    <tr>\n      <th>0</th>\n      <td>-0.067689</td>\n      <td>-0.214082</td>\n      <td>0.453176</td>\n      <td>-0.262399</td>\n    </tr>\n    <tr>\n      <th>5</th>\n      <td>0.144446</td>\n      <td>0.214210</td>\n      <td>1.655770</td>\n      <td>0.560694</td>\n    </tr>\n  </tbody>\n</table>\n</div>"
     },
     "metadata": {},
     "execution_count": 23
    }
   ],
   "source": [
    "kdf.sort_values(by='B')"
   ]
  },
  {
   "cell_type": "code",
   "execution_count": 24,
   "id": "linear-subdivision",
   "metadata": {},
   "outputs": [
    {
     "output_type": "execute_result",
     "data": {
      "text/plain": [
       "8"
      ]
     },
     "metadata": {},
     "execution_count": 24
    }
   ],
   "source": [
    "sdf.rdd.getNumPartitions()"
   ]
  },
  {
   "cell_type": "code",
   "execution_count": 25,
   "id": "duplicate-latvia",
   "metadata": {},
   "outputs": [],
   "source": [
    "#kdf.rdd.getNumPartitions()"
   ]
  }
 ],
 "metadata": {
  "kernelspec": {
   "display_name": "Python 3",
   "language": "python",
   "name": "python3"
  },
  "language_info": {
   "codemirror_mode": {
    "name": "ipython",
    "version": 3
   },
   "file_extension": ".py",
   "mimetype": "text/x-python",
   "name": "python",
   "nbconvert_exporter": "python",
   "pygments_lexer": "ipython3",
   "version": "3.8.3-final"
  }
 },
 "nbformat": 4,
 "nbformat_minor": 5
}